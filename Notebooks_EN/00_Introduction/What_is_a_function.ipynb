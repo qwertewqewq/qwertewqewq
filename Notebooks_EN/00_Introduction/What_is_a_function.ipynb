{
 "cells": [
  {
   "cell_type": "markdown",
   "metadata": {},
   "source": [
    "# Function Definition\n",
    "\n",
    "**Set-theory definition of a function** states that a function $f$ is a special case of a relation. A relation is simply any set of ordered pairs. A function, on the other hand, is a relation $f \\subseteq X \\times Y$ that satisfies an additional condition: for each element $x \\in X$, there is **exactly one** element $y \\in Y$ assigned to it.\n",
    "\n",
    "Formally, a function $f$ is a relation that satisfies the following condition:\n",
    "\n",
    "$$\n",
    "\\forall x_1, x_2 \\in X, \\, \\forall y_1, y_2 \\in Y \\, \\left( (x_1, y_1) \\in f \\land (x_2, y_2) \\in f : (x_1 = x_2) \\Rightarrow (y_1 = y_2) \\right)\n",
    "$$\n",
    "\n",
    "This means that if for the same $x_1$ we have two pairs $(x_1, y_1)$ and $(x_1, y_2)$, then $y_1$ must be equal to $y_2$. In other words, no element from $X$ can be associated with more than one element from $Y$.\n",
    "\n",
    "### Important Points:\n",
    "1. **Relation** in set theory is simply a set of ordered pairs $(x, y)$, where $x$ comes from set $X$ and $y$ comes from set $Y$.\n",
    "2. **Function** is a relation that additionally satisfies the condition that for every $x$ there is exactly one pair $(x, y)$ in this relation.\n",
    "\n",
    "Thus, a function $f \\subseteq X \\times Y$ is a relation that satisfies the additional condition that for each $x \\in X$ there is exactly one $y \\in Y$ such that $(x, y) \\in f$.\n",
    "\n",
    "### Examples\n",
    "\n",
    "**Example 1**\n",
    "\n",
    "$$\n",
    "f=\\{(\\text{dog}, \\text{pies}), (\\text{cat}, \\text{kot}), (\\text{horse}, \\text{koń})\\}\n",
    "$$\n",
    "\n",
    "**Example 2**\n",
    "\n",
    "$$\n",
    "f=\\{(1,2), (2,3), (3,4)\\}\n",
    "$$\n",
    "\n",
    "This means that $f(1)=2$, $f(2)=3$, and $f(3)=4$.\n",
    "\n",
    "**Example 3**\n",
    "\n",
    "$$\n",
    "f=\\{(1,1),(2,1/2),(3,1/3),...\\}=\\{(n,1/n): n \\in \\mathbb{N}\\}\n",
    "$$\n",
    "\n",
    "where $\\mathbb{N}$ denotes the set of natural numbers. This function assigns each $n$ the value $1/n$.\n",
    "\n",
    "We often denote sequences using $f(n)=1/n$.\n",
    "\n",
    "**Example 4**\n",
    "\n",
    "The quadratic function often written as $f(x)=x^2$ is a function that assigns each $x$ the value $x^2$. In our notation, we write this as\n",
    "\n",
    "$$\n",
    "f=\\{(x,x^2): x \\in \\mathbb{R}\\}\n",
    "$$\n",
    "\n",
    "**Example 5**\n",
    "\n",
    "The determinant of a matrix is a function that assigns each matrix a number. In our notation, we write this as\n",
    "\n",
    "$$\n",
    "f=\\{(M,\\text{det}(M)): M \\text{ is a square matrix}\\}\n",
    "$$\n",
    "\n",
    "**Example 6**\n",
    "\n",
    "A matrix itself is also a function that assigns each pair of indices $(i,j)$ where $i,j \\in \\{1,2,...,n\\}$ the element of the matrix at position $(i,j)$. In our notation, we write this as\n",
    "\n",
    "$$\n",
    "M=\\{((i,j),M_{ij}): i,j \\in \\{1,2,...,n\\}\\}\n",
    "$$\n",
    "\n",
    "for convenience, we write this as a two-dimensional array:\n",
    "\n",
    "$$\n",
    "M=\\begin{bmatrix}\n",
    "M_{11} & M_{12} & \\cdots & M_{1n} \\\\\n",
    "M_{21} & M_{22} & \\cdots & M_{2n} \\\\\n",
    "\\vdots & \\vdots & \\ddots & \\vdots \\\\\n",
    "M_{n1} & M_{n2} & \\cdots & M_{nn}\n",
    "\\end{bmatrix}\n",
    "$$\n",
    "\n",
    "**Example 7**\n",
    "\n",
    "Matrix addition is a function that assigns each pair of matrices their sum. In our notation, we write this as\n",
    "\n",
    "$$\n",
    "f=\\{((A,B),A+B): A,B \\text{ are matrices of the same dimensions}\\}\n",
    "$$\n",
    "\n",
    "where $A+B$ is the matrix whose elements are the sums of the elements of matrices $A$ and $B$, that is, for each $i,j$ we have \n",
    "$$\n",
    "(A+B)_{ij}=A_{ij}+B_{ij}\n",
    "$$\n",
    "\n",
    "**Example 8**\n",
    "\n",
    "A dictionary in Python is also a function that assigns each key a value. In our notation, we write this as:"
   ]
  },
  {
   "cell_type": "code",
   "execution_count": null,
   "metadata": {},
   "outputs": [],
   "source": [
    "f={1:1,2:4,3:9,4:16,5:25}\n",
    "f"
   ]
  },
  {
   "cell_type": "code",
   "execution_count": null,
   "metadata": {},
   "outputs": [],
   "source": [
    "# Querying the dictionary for values for keys 1, 2, 3 similarly to how we write it in mathematics!!!\n",
    "print(f\"Value for key 1: f[1] = {f[1]}\")\n",
    "print(f\"Value for key 2: f[2] = {f[2]}\")\n",
    "print(f\"Value for key 3: f[3] = {f[3]}\")"
   ]
  },
  {
   "cell_type": "code",
   "execution_count": null,
   "metadata": {},
   "outputs": [],
   "source": [
    "# Example of encoding colors as a dictionary\n",
    "color_codes = {\"red\": \"#FF0000\", \"green\": \"#00FF00\", \"blue\": \"#0000FF\"}\n",
    "print(f\"Red color code: {color_codes['red']}\")\n",
    "print(f\"Green color code: {color_codes['green']}\")\n",
    "print(f\"Blue color code: {color_codes['blue']}\")"
   ]
  },
  {
   "cell_type": "markdown",
   "metadata": {},
   "source": [
    "**Example 9**\n",
    "\n",
    "The way to write a function in Python is very natural.\n",
    "We need:\n",
    "\n",
    "* to give it a name\n",
    "* define the arguments\n",
    "* specify the operations to perform\n",
    "* return the result\n",
    "\n",
    "```python\n",
    "def function_name(arguments):\n",
    "    \"do something with arguments\"\n",
    "    return result\n",
    "```"
   ]
  },
  {
   "cell_type": "code",
   "execution_count": null,
   "metadata": {},
   "outputs": [],
   "source": [
    "# Quadratic function\n",
    "def f(x):\n",
    "    return x**2\n",
    "\n",
    "# equivalently as a lambda\n",
    "f = lambda x: x**2\n",
    "\n",
    "# Querying the function for values for arguments 1, 2, 3 similarly to how we write it in mathematics!!!\n",
    "print(f\"Value for argument 1: f(1) = {f(1)}\")\n",
    "print(f\"Value for argument 2: f(2) = {f(2)}\")\n",
    "print(f\"Value for argument 3: f(3) = {f(3)}\")"
   ]
  },
  {
   "cell_type": "code",
   "execution_count": null,
   "metadata": {},
   "outputs": [],
   "source": [
    "# Derivative - more on this in upcoming lessons\n",
    "import sympy as sp  # we need the sympy library\n",
    "from IPython.display import display, Math  # to display results as LaTeX\n",
    "\n",
    "x = sp.symbols('x')  # define variable x\n",
    "\n",
    "def calculate_derivative(f):\n",
    "    return sp.diff(f, x)\n",
    "\n",
    "# define a few functions to calculate the derivative\n",
    "functions_list = [x**2, sp.sin(x**3), sp.exp(sp.sin(x)), sp.log(x**2 + 1)]\n",
    "\n",
    "# calculate derivatives for each function in the list\n",
    "for f in functions_list:\n",
    "    # Display the result as LaTeX\n",
    "    display(Math(r'Derivative\\ of\\ the\\ function\\ {}\\ is\\ {}'.format(sp.latex(f), sp.latex(calculate_derivative(f)))))"
   ]
  },
  {
   "cell_type": "code",
   "execution_count": 6,
   "metadata": {},
   "outputs": [],
   "source": [
    "# Other examples of defining functions in sympy\n",
    "f=(x+1)**2\n",
    "g=sp.sin(x)"
   ]
  },
  {
   "cell_type": "code",
   "execution_count": null,
   "metadata": {},
   "outputs": [],
   "source": [
    "# We can display the functions\n",
    "f"
   ]
  },
  {
   "cell_type": "code",
   "execution_count": null,
   "metadata": {},
   "outputs": [],
   "source": [
    "# We can add functions\n",
    "f+g"
   ]
  },
  {
   "cell_type": "code",
   "execution_count": null,
   "metadata": {},
   "outputs": [],
   "source": [
    "# We can differentiate functions\n",
    "f.diff(x)"
   ]
  },
  {
   "cell_type": "code",
   "execution_count": null,
   "metadata": {},
   "outputs": [],
   "source": [
    "# We can integrate functions\n",
    "f.integrate(x)"
   ]
  },
  {
   "cell_type": "code",
   "execution_count": null,
   "metadata": {},
   "outputs": [],
   "source": [
    "# We can plot functions\n",
    "sp.plot(g, (x, -5, 5))"
   ]
  },
  {
   "cell_type": "code",
   "execution_count": null,
   "metadata": {},
   "outputs": [],
   "source": [
    "# We can also define general functions\n",
    "f, g = sp.symbols('f g', cls=sp.Function)\n",
    "f(x)+g(x)"
   ]
  },
  {
   "cell_type": "code",
   "execution_count": null,
   "metadata": {},
   "outputs": [],
   "source": [
    "## We can see one of the integration rules\n",
    "sp.expand(sp.integrate(f(x)+g(x), x))"
   ]
  },
  {
   "cell_type": "markdown",
   "metadata": {},
   "source": []
  }
 ],
 "metadata": {
  "kernelspec": {
   "display_name": "Python 3",
   "language": "python",
   "name": "python3"
  },
  "language_info": {
   "codemirror_mode": {
    "name": "ipython",
    "version": 3
   },
   "file_extension": ".py",
   "mimetype": "text/x-python",
   "name": "python",
   "nbconvert_exporter": "python",
   "pygments_lexer": "ipython3",
   "version": "3.11.9"
  }
 },
 "nbformat": 4,
 "nbformat_minor": 4
}
