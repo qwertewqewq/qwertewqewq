{
 "cells": [
  {
   "cell_type": "markdown",
   "metadata": {},
   "source": [
    "## Odwracanie macierzy metodą Gaussa"
   ]
  },
  {
   "cell_type": "code",
   "execution_count": 50,
   "metadata": {},
   "outputs": [],
   "source": [
    "from sympy import Matrix, Rational, latex\n",
    "from IPython.display import display, Markdown, Math, HTML\n",
    "\n",
    "class InvertibleMatrix:\n",
    "    def __init__(self, matrix):\n",
    "        \"\"\"\n",
    "        Inicjalizuje macierz do odwracania metodą Gaussa-Jordana.\n",
    "        \n",
    "        Parameters:\n",
    "        - matrix: Kwadratowa macierz, którą chcemy odwrócić.\n",
    "        \"\"\"\n",
    "        # Convert all entries to Rational numbers\n",
    "        self.matrix = Matrix(matrix).applyfunc(Rational)\n",
    "        self.operations = []\n",
    "        \n",
    "        # Sprawdza, czy macierz jest kwadratowa\n",
    "        if self.matrix.rows != self.matrix.cols:\n",
    "            raise ValueError(\"Macierz musi być kwadratowa.\")\n",
    "        \n",
    "        # Tworzy rozszerzoną macierz z macierzą jednostkową (with Rational entries)\n",
    "        identity = Matrix.eye(self.matrix.rows).applyfunc(Rational)\n",
    "        self.aug_matrix = self.matrix.row_join(identity)\n",
    "        \n",
    "        display(Markdown(\"**Początkowa macierz (Starting matrix):**\"))\n",
    "        self.display_matrix()\n",
    "    \n",
    "    def __repr__(self):\n",
    "        return repr(self.aug_matrix)\n",
    "    \n",
    "    def __str__(self):\n",
    "        return str(self.aug_matrix)\n",
    "    \n",
    "    def _repr_latex_(self):\n",
    "        return self.aug_matrix._repr_latex_()\n",
    "    \n",
    "    def _validate_row_number(self, row):\n",
    "        if not isinstance(row, int):\n",
    "            raise TypeError(\"Numer wiersza musi być liczbą całkowitą.\")\n",
    "        if row < 1 or row > self.aug_matrix.rows:\n",
    "            raise IndexError(f\"Numer wiersza musi być w zakresie od 1 do {self.aug_matrix.rows}.\")\n",
    "        return row - 1\n",
    "    \n",
    "    def add_row(self, target_row, source_row, coefficient):\n",
    "        target_idx = self._validate_row_number(target_row)\n",
    "        source_idx = self._validate_row_number(source_row)\n",
    "        coefficient = Rational(coefficient)\n",
    "        \n",
    "        self.aug_matrix.row_op(target_idx, lambda v, j: v + coefficient * self.aug_matrix[source_idx, j])\n",
    "        \n",
    "        operation_str = f\"w{target_row} = w{target_row} + {coefficient}*w{source_row}\"\n",
    "        self.operations.append(operation_str)\n",
    "        display(Markdown(f\"**Operacja (Operation):** {operation_str}\"))\n",
    "        self.display_matrix()\n",
    "    \n",
    "    def multiply_row(self, row, coefficient):\n",
    "        row_idx = self._validate_row_number(row)\n",
    "        coefficient = Rational(coefficient)\n",
    "        \n",
    "        self.aug_matrix.row_op(row_idx, lambda v, _: coefficient * v)\n",
    "        \n",
    "        operation_str = f\"w{row} = {coefficient}*w{row}\"\n",
    "        self.operations.append(operation_str)\n",
    "        display(Markdown(f\"**Operacja (Operation):** {operation_str}\"))\n",
    "        self.display_matrix()\n",
    "    \n",
    "    def swap_rows(self, row1, row2):\n",
    "        row1_idx = self._validate_row_number(row1)\n",
    "        row2_idx = self._validate_row_number(row2)\n",
    "        \n",
    "        self.aug_matrix.row_swap(row1_idx, row2_idx)\n",
    "        \n",
    "        operation_str = f\"Zamiana w{row1} <-> w{row2}\"\n",
    "        self.operations.append(operation_str)\n",
    "        display(Markdown(f\"**Operacja (Operation):** {operation_str}\"))\n",
    "        self.display_matrix()\n",
    "    \n",
    "    def display_matrix(self):\n",
    "        \"\"\"Wyświetla lewą i prawą macierz obok siebie w formacie LaTeX.\"\"\"\n",
    "        left_matrix = self.aug_matrix[:, :self.matrix.cols]\n",
    "        right_matrix = self.aug_matrix[:, self.matrix.cols:]\n",
    "        \n",
    "        # Generowanie kodu LaTeX dla obu macierzy\n",
    "        left_latex = latex(left_matrix)\n",
    "        right_latex = latex(right_matrix)\n",
    "        \n",
    "        # Kombinacja obu macierzy w jeden wyświetlany wynik\n",
    "        combined_latex = r\"\"\"\n",
    "        %s \n",
    "        \\quad\n",
    "        %s\n",
    "        \"\"\" % (left_latex, right_latex)\n",
    "        \n",
    "        display(Math(combined_latex))\n",
    "    \n",
    "    def print_operations(self):\n",
    "        display(Markdown(\"**Wykonane operacje:**\"))\n",
    "        for op in self.operations:\n",
    "            print(op)\n",
    "    \n",
    "    def get_inverse(self):\n",
    "        \"\"\"Zwraca odwrotność macierzy po przeprowadzeniu eliminacji Gaussa-Jordana.\"\"\"\n",
    "        # Sprawdza, czy lewa część rozszerzonej macierzy jest macierzą jednostkową\n",
    "        left_matrix = self.aug_matrix[:, :self.matrix.cols]\n",
    "        if not left_matrix == Matrix.eye(self.matrix.rows):\n",
    "            raise ValueError(\"Macierz nie została zredukowana do macierzy jednostkowej. Kontynuuj operacje.\")\n",
    "        # Zwraca prawą część rozszerzonej macierzy jako odwrotność\n",
    "        inverse_matrix = self.aug_matrix[:, self.matrix.cols:]\n",
    "        display(Markdown(\"**Macierz odwrotna:**\"))\n",
    "        display(Math(latex(inverse_matrix)))\n",
    "        return inverse_matrix\n"
   ]
  },
  {
   "cell_type": "markdown",
   "metadata": {},
   "source": [
    "**Przykład 1:**"
   ]
  },
  {
   "cell_type": "code",
   "execution_count": 51,
   "metadata": {},
   "outputs": [
    {
     "data": {
      "text/markdown": [
       "**Początkowa macierz (Starting matrix):**"
      ],
      "text/plain": [
       "<IPython.core.display.Markdown object>"
      ]
     },
     "metadata": {},
     "output_type": "display_data"
    },
    {
     "data": {
      "text/latex": [
       "$\\displaystyle \n",
       "        \\left[\\begin{matrix}2 & 1\\\\5 & 3\\end{matrix}\\right] \n",
       "        \\quad\n",
       "        \\left[\\begin{matrix}1 & 0\\\\0 & 1\\end{matrix}\\right]\n",
       "        $"
      ],
      "text/plain": [
       "<IPython.core.display.Math object>"
      ]
     },
     "metadata": {},
     "output_type": "display_data"
    }
   ],
   "source": [
    "# Tworzenie instancji klasy z macierzą do odwrócenia\n",
    "pierwotna_macierz = [[2, 1], [5, 3]] # Macierz 2x2\n",
    "m = InvertibleMatrix(pierwotna_macierz) # Tworzenie instancji klasy"
   ]
  },
  {
   "cell_type": "code",
   "execution_count": 52,
   "metadata": {},
   "outputs": [
    {
     "name": "stdout",
     "output_type": "stream",
     "text": [
      "Macierz odwrotna jest równa:\n"
     ]
    },
    {
     "data": {
      "text/latex": [
       "$\\displaystyle \\left[\\begin{matrix}3 & -1\\\\-5 & 2\\end{matrix}\\right]$"
      ],
      "text/plain": [
       "Matrix([\n",
       "[ 3, -1],\n",
       "[-5,  2]])"
      ]
     },
     "execution_count": 52,
     "metadata": {},
     "output_type": "execute_result"
    }
   ],
   "source": [
    "import sympy as sp # importujemy bibliotekę sympy\n",
    "a=sp.Matrix(pierwotna_macierz) # tworzymy macierz pierwotna_macierz\n",
    "print(\"Macierz odwrotna jest równa:\")\n",
    "a.inv() # wyznaczamy macierz odwrotną"
   ]
  },
  {
   "cell_type": "code",
   "execution_count": 53,
   "metadata": {},
   "outputs": [
    {
     "data": {
      "text/markdown": [
       "**Operacja (Operation):** w2 = w2 + -5/2*w1"
      ],
      "text/plain": [
       "<IPython.core.display.Markdown object>"
      ]
     },
     "metadata": {},
     "output_type": "display_data"
    },
    {
     "data": {
      "text/latex": [
       "$\\displaystyle \n",
       "        \\left[\\begin{matrix}2 & 1\\\\0 & \\frac{1}{2}\\end{matrix}\\right] \n",
       "        \\quad\n",
       "        \\left[\\begin{matrix}1 & 0\\\\- \\frac{5}{2} & 1\\end{matrix}\\right]\n",
       "        $"
      ],
      "text/plain": [
       "<IPython.core.display.Math object>"
      ]
     },
     "metadata": {},
     "output_type": "display_data"
    }
   ],
   "source": [
    "# Do \"2\" wiersza dodajemy -5/2 razy \"1\" wiersz\n",
    "m.add_row(2, 1, -5/2)"
   ]
  },
  {
   "cell_type": "code",
   "execution_count": 54,
   "metadata": {},
   "outputs": [
    {
     "data": {
      "text/markdown": [
       "**Operacja (Operation):** w1 = 1/2*w1"
      ],
      "text/plain": [
       "<IPython.core.display.Markdown object>"
      ]
     },
     "metadata": {},
     "output_type": "display_data"
    },
    {
     "data": {
      "text/latex": [
       "$\\displaystyle \n",
       "        \\left[\\begin{matrix}1 & \\frac{1}{2}\\\\0 & \\frac{1}{2}\\end{matrix}\\right] \n",
       "        \\quad\n",
       "        \\left[\\begin{matrix}\\frac{1}{2} & 0\\\\- \\frac{5}{2} & 1\\end{matrix}\\right]\n",
       "        $"
      ],
      "text/plain": [
       "<IPython.core.display.Math object>"
      ]
     },
     "metadata": {},
     "output_type": "display_data"
    }
   ],
   "source": [
    "# Mnożymy \"1\" wiersz przez 1/2\n",
    "m.multiply_row(1, 1/2)"
   ]
  },
  {
   "cell_type": "code",
   "execution_count": 55,
   "metadata": {},
   "outputs": [
    {
     "data": {
      "text/markdown": [
       "**Operacja (Operation):** w1 = w1 + -1*w2"
      ],
      "text/plain": [
       "<IPython.core.display.Markdown object>"
      ]
     },
     "metadata": {},
     "output_type": "display_data"
    },
    {
     "data": {
      "text/latex": [
       "$\\displaystyle \n",
       "        \\left[\\begin{matrix}1 & 0\\\\0 & \\frac{1}{2}\\end{matrix}\\right] \n",
       "        \\quad\n",
       "        \\left[\\begin{matrix}3 & -1\\\\- \\frac{5}{2} & 1\\end{matrix}\\right]\n",
       "        $"
      ],
      "text/plain": [
       "<IPython.core.display.Math object>"
      ]
     },
     "metadata": {},
     "output_type": "display_data"
    }
   ],
   "source": [
    "# Do \"1\" wiersza dodajemy \"2\" wiersz pomnożony przez -1\n",
    "m.add_row(1, 2, -1)"
   ]
  },
  {
   "cell_type": "code",
   "execution_count": 56,
   "metadata": {},
   "outputs": [
    {
     "data": {
      "text/markdown": [
       "**Operacja (Operation):** w2 = 2*w2"
      ],
      "text/plain": [
       "<IPython.core.display.Markdown object>"
      ]
     },
     "metadata": {},
     "output_type": "display_data"
    },
    {
     "data": {
      "text/latex": [
       "$\\displaystyle \n",
       "        \\left[\\begin{matrix}1 & 0\\\\0 & 1\\end{matrix}\\right] \n",
       "        \\quad\n",
       "        \\left[\\begin{matrix}3 & -1\\\\-5 & 2\\end{matrix}\\right]\n",
       "        $"
      ],
      "text/plain": [
       "<IPython.core.display.Math object>"
      ]
     },
     "metadata": {},
     "output_type": "display_data"
    }
   ],
   "source": [
    "# Mnożymy \"2\" wiersz przez 2\n",
    "m.multiply_row(2, 2)"
   ]
  },
  {
   "cell_type": "markdown",
   "metadata": {},
   "source": [
    " Widzimy, że macierz została obliczona poprawnie!"
   ]
  },
  {
   "cell_type": "markdown",
   "metadata": {},
   "source": [
    "**Przykład 2**"
   ]
  },
  {
   "cell_type": "code",
   "execution_count": 57,
   "metadata": {},
   "outputs": [
    {
     "data": {
      "text/markdown": [
       "**Początkowa macierz (Starting matrix):**"
      ],
      "text/plain": [
       "<IPython.core.display.Markdown object>"
      ]
     },
     "metadata": {},
     "output_type": "display_data"
    },
    {
     "data": {
      "text/latex": [
       "$\\displaystyle \n",
       "        \\left[\\begin{matrix}2 & 1 & 2\\\\5 & 3 & 1\\\\1 & 1 & 5\\end{matrix}\\right] \n",
       "        \\quad\n",
       "        \\left[\\begin{matrix}1 & 0 & 0\\\\0 & 1 & 0\\\\0 & 0 & 1\\end{matrix}\\right]\n",
       "        $"
      ],
      "text/plain": [
       "<IPython.core.display.Math object>"
      ]
     },
     "metadata": {},
     "output_type": "display_data"
    }
   ],
   "source": [
    "pierwotna_macierz = [[2, 1,2], [5, 3,1],[1,1,5]] # Macierz 3x3\n",
    "m = InvertibleMatrix(pierwotna_macierz) # Tworzenie instancji klasy\n",
    "sympy_m = sp.Matrix(pierwotna_macierz) # tworzymy macierz pierwotna_macierz"
   ]
  },
  {
   "cell_type": "code",
   "execution_count": 58,
   "metadata": {},
   "outputs": [
    {
     "data": {
      "text/latex": [
       "$\\displaystyle \\left[\\begin{matrix}\\frac{7}{4} & - \\frac{3}{8} & - \\frac{5}{8}\\\\-3 & 1 & 1\\\\\\frac{1}{4} & - \\frac{1}{8} & \\frac{1}{8}\\end{matrix}\\right]$"
      ],
      "text/plain": [
       "Matrix([\n",
       "[7/4, -3/8, -5/8],\n",
       "[ -3,    1,    1],\n",
       "[1/4, -1/8,  1/8]])"
      ]
     },
     "execution_count": 58,
     "metadata": {},
     "output_type": "execute_result"
    }
   ],
   "source": [
    "odwrotna=sympy_m.inv() # wyznaczamy macierz odwrotną\n",
    "odwrotna"
   ]
  },
  {
   "cell_type": "code",
   "execution_count": 59,
   "metadata": {},
   "outputs": [
    {
     "data": {
      "text/markdown": [
       "**Operacja (Operation):** w2 = w2 + -5*w3"
      ],
      "text/plain": [
       "<IPython.core.display.Markdown object>"
      ]
     },
     "metadata": {},
     "output_type": "display_data"
    },
    {
     "data": {
      "text/latex": [
       "$\\displaystyle \n",
       "        \\left[\\begin{matrix}2 & 1 & 2\\\\0 & -2 & -24\\\\1 & 1 & 5\\end{matrix}\\right] \n",
       "        \\quad\n",
       "        \\left[\\begin{matrix}1 & 0 & 0\\\\0 & 1 & -5\\\\0 & 0 & 1\\end{matrix}\\right]\n",
       "        $"
      ],
      "text/plain": [
       "<IPython.core.display.Math object>"
      ]
     },
     "metadata": {},
     "output_type": "display_data"
    }
   ],
   "source": [
    "m.add_row(2, 3, -5)"
   ]
  },
  {
   "cell_type": "code",
   "execution_count": 60,
   "metadata": {},
   "outputs": [
    {
     "data": {
      "text/markdown": [
       "**Operacja (Operation):** w3 = w3 + -1/2*w1"
      ],
      "text/plain": [
       "<IPython.core.display.Markdown object>"
      ]
     },
     "metadata": {},
     "output_type": "display_data"
    },
    {
     "data": {
      "text/latex": [
       "$\\displaystyle \n",
       "        \\left[\\begin{matrix}2 & 1 & 2\\\\0 & -2 & -24\\\\0 & \\frac{1}{2} & 4\\end{matrix}\\right] \n",
       "        \\quad\n",
       "        \\left[\\begin{matrix}1 & 0 & 0\\\\0 & 1 & -5\\\\- \\frac{1}{2} & 0 & 1\\end{matrix}\\right]\n",
       "        $"
      ],
      "text/plain": [
       "<IPython.core.display.Math object>"
      ]
     },
     "metadata": {},
     "output_type": "display_data"
    }
   ],
   "source": [
    "m.add_row(3, 1, -1/2)"
   ]
  },
  {
   "cell_type": "code",
   "execution_count": 61,
   "metadata": {},
   "outputs": [
    {
     "data": {
      "text/markdown": [
       "**Operacja (Operation):** w3 = 4*w3"
      ],
      "text/plain": [
       "<IPython.core.display.Markdown object>"
      ]
     },
     "metadata": {},
     "output_type": "display_data"
    },
    {
     "data": {
      "text/latex": [
       "$\\displaystyle \n",
       "        \\left[\\begin{matrix}2 & 1 & 2\\\\0 & -2 & -24\\\\0 & 2 & 16\\end{matrix}\\right] \n",
       "        \\quad\n",
       "        \\left[\\begin{matrix}1 & 0 & 0\\\\0 & 1 & -5\\\\-2 & 0 & 4\\end{matrix}\\right]\n",
       "        $"
      ],
      "text/plain": [
       "<IPython.core.display.Math object>"
      ]
     },
     "metadata": {},
     "output_type": "display_data"
    }
   ],
   "source": [
    "m.multiply_row(3,4)"
   ]
  },
  {
   "cell_type": "code",
   "execution_count": 62,
   "metadata": {},
   "outputs": [
    {
     "data": {
      "text/markdown": [
       "**Operacja (Operation):** w3 = w3 + 1*w2"
      ],
      "text/plain": [
       "<IPython.core.display.Markdown object>"
      ]
     },
     "metadata": {},
     "output_type": "display_data"
    },
    {
     "data": {
      "text/latex": [
       "$\\displaystyle \n",
       "        \\left[\\begin{matrix}2 & 1 & 2\\\\0 & -2 & -24\\\\0 & 0 & -8\\end{matrix}\\right] \n",
       "        \\quad\n",
       "        \\left[\\begin{matrix}1 & 0 & 0\\\\0 & 1 & -5\\\\-2 & 1 & -1\\end{matrix}\\right]\n",
       "        $"
      ],
      "text/plain": [
       "<IPython.core.display.Math object>"
      ]
     },
     "metadata": {},
     "output_type": "display_data"
    }
   ],
   "source": [
    "m.add_row(3, 2, 1)"
   ]
  },
  {
   "cell_type": "code",
   "execution_count": 63,
   "metadata": {},
   "outputs": [
    {
     "data": {
      "text/markdown": [
       "**Operacja (Operation):** w3 = -1/8*w3"
      ],
      "text/plain": [
       "<IPython.core.display.Markdown object>"
      ]
     },
     "metadata": {},
     "output_type": "display_data"
    },
    {
     "data": {
      "text/latex": [
       "$\\displaystyle \n",
       "        \\left[\\begin{matrix}2 & 1 & 2\\\\0 & -2 & -24\\\\0 & 0 & 1\\end{matrix}\\right] \n",
       "        \\quad\n",
       "        \\left[\\begin{matrix}1 & 0 & 0\\\\0 & 1 & -5\\\\\\frac{1}{4} & - \\frac{1}{8} & \\frac{1}{8}\\end{matrix}\\right]\n",
       "        $"
      ],
      "text/plain": [
       "<IPython.core.display.Math object>"
      ]
     },
     "metadata": {},
     "output_type": "display_data"
    }
   ],
   "source": [
    "m.multiply_row(3, -1/8)"
   ]
  },
  {
   "cell_type": "code",
   "execution_count": 64,
   "metadata": {},
   "outputs": [
    {
     "data": {
      "text/markdown": [
       "**Operacja (Operation):** w2 = -1/2*w2"
      ],
      "text/plain": [
       "<IPython.core.display.Markdown object>"
      ]
     },
     "metadata": {},
     "output_type": "display_data"
    },
    {
     "data": {
      "text/latex": [
       "$\\displaystyle \n",
       "        \\left[\\begin{matrix}2 & 1 & 2\\\\0 & 1 & 12\\\\0 & 0 & 1\\end{matrix}\\right] \n",
       "        \\quad\n",
       "        \\left[\\begin{matrix}1 & 0 & 0\\\\0 & - \\frac{1}{2} & \\frac{5}{2}\\\\\\frac{1}{4} & - \\frac{1}{8} & \\frac{1}{8}\\end{matrix}\\right]\n",
       "        $"
      ],
      "text/plain": [
       "<IPython.core.display.Math object>"
      ]
     },
     "metadata": {},
     "output_type": "display_data"
    }
   ],
   "source": [
    "m.multiply_row(2, -1/2)"
   ]
  },
  {
   "cell_type": "code",
   "execution_count": 65,
   "metadata": {},
   "outputs": [
    {
     "data": {
      "text/markdown": [
       "**Operacja (Operation):** w2 = w2 + -12*w3"
      ],
      "text/plain": [
       "<IPython.core.display.Markdown object>"
      ]
     },
     "metadata": {},
     "output_type": "display_data"
    },
    {
     "data": {
      "text/latex": [
       "$\\displaystyle \n",
       "        \\left[\\begin{matrix}2 & 1 & 2\\\\0 & 1 & 0\\\\0 & 0 & 1\\end{matrix}\\right] \n",
       "        \\quad\n",
       "        \\left[\\begin{matrix}1 & 0 & 0\\\\-3 & 1 & 1\\\\\\frac{1}{4} & - \\frac{1}{8} & \\frac{1}{8}\\end{matrix}\\right]\n",
       "        $"
      ],
      "text/plain": [
       "<IPython.core.display.Math object>"
      ]
     },
     "metadata": {},
     "output_type": "display_data"
    }
   ],
   "source": [
    "m.add_row(2, 3,-12)"
   ]
  },
  {
   "cell_type": "code",
   "execution_count": 66,
   "metadata": {},
   "outputs": [
    {
     "data": {
      "text/markdown": [
       "**Operacja (Operation):** w1 = w1 + -2*w3"
      ],
      "text/plain": [
       "<IPython.core.display.Markdown object>"
      ]
     },
     "metadata": {},
     "output_type": "display_data"
    },
    {
     "data": {
      "text/latex": [
       "$\\displaystyle \n",
       "        \\left[\\begin{matrix}2 & 1 & 0\\\\0 & 1 & 0\\\\0 & 0 & 1\\end{matrix}\\right] \n",
       "        \\quad\n",
       "        \\left[\\begin{matrix}\\frac{1}{2} & \\frac{1}{4} & - \\frac{1}{4}\\\\-3 & 1 & 1\\\\\\frac{1}{4} & - \\frac{1}{8} & \\frac{1}{8}\\end{matrix}\\right]\n",
       "        $"
      ],
      "text/plain": [
       "<IPython.core.display.Math object>"
      ]
     },
     "metadata": {},
     "output_type": "display_data"
    }
   ],
   "source": [
    "m.add_row(1, 3, -2)"
   ]
  },
  {
   "cell_type": "code",
   "execution_count": 67,
   "metadata": {},
   "outputs": [
    {
     "data": {
      "text/markdown": [
       "**Operacja (Operation):** w1 = w1 + -1*w2"
      ],
      "text/plain": [
       "<IPython.core.display.Markdown object>"
      ]
     },
     "metadata": {},
     "output_type": "display_data"
    },
    {
     "data": {
      "text/latex": [
       "$\\displaystyle \n",
       "        \\left[\\begin{matrix}2 & 0 & 0\\\\0 & 1 & 0\\\\0 & 0 & 1\\end{matrix}\\right] \n",
       "        \\quad\n",
       "        \\left[\\begin{matrix}\\frac{7}{2} & - \\frac{3}{4} & - \\frac{5}{4}\\\\-3 & 1 & 1\\\\\\frac{1}{4} & - \\frac{1}{8} & \\frac{1}{8}\\end{matrix}\\right]\n",
       "        $"
      ],
      "text/plain": [
       "<IPython.core.display.Math object>"
      ]
     },
     "metadata": {},
     "output_type": "display_data"
    }
   ],
   "source": [
    "m.add_row(1, 2, -1)"
   ]
  },
  {
   "cell_type": "code",
   "execution_count": 68,
   "metadata": {},
   "outputs": [
    {
     "data": {
      "text/markdown": [
       "**Operacja (Operation):** w1 = 1/2*w1"
      ],
      "text/plain": [
       "<IPython.core.display.Markdown object>"
      ]
     },
     "metadata": {},
     "output_type": "display_data"
    },
    {
     "data": {
      "text/latex": [
       "$\\displaystyle \n",
       "        \\left[\\begin{matrix}1 & 0 & 0\\\\0 & 1 & 0\\\\0 & 0 & 1\\end{matrix}\\right] \n",
       "        \\quad\n",
       "        \\left[\\begin{matrix}\\frac{7}{4} & - \\frac{3}{8} & - \\frac{5}{8}\\\\-3 & 1 & 1\\\\\\frac{1}{4} & - \\frac{1}{8} & \\frac{1}{8}\\end{matrix}\\right]\n",
       "        $"
      ],
      "text/plain": [
       "<IPython.core.display.Math object>"
      ]
     },
     "metadata": {},
     "output_type": "display_data"
    }
   ],
   "source": [
    "m.multiply_row(1, 1/2)"
   ]
  },
  {
   "cell_type": "markdown",
   "metadata": {},
   "source": [
    "---\n",
    "\n",
    "## Zadania dla studentów\n",
    "\n",
    "Wyznacz macierze odwrotne do macierzy metodą Gaussa:\n",
    "\n",
    "$$\n",
    "A=\n",
    "\\begin{bmatrix}\n",
    "1 & 2\\\\\n",
    "3 & 4\n",
    "\\end{bmatrix}\n",
    ", \\qquad\n",
    "B=\n",
    "\\begin{bmatrix}\n",
    "1 & 2 & 3 \\\\\n",
    "4 & 5 & 1 \\\\\n",
    "2 & 3 & 2\n",
    "\\end{bmatrix}\n",
    ",\\qquad\n",
    "C=\n",
    "\\begin{bmatrix}\n",
    "0&0&1\\\\\n",
    "0&1&0\\\\\n",
    "1&0&0\n",
    "\\end{bmatrix}\n",
    "$$\n",
    "\n"
   ]
  },
  {
   "cell_type": "markdown",
   "metadata": {},
   "source": []
  }
 ],
 "metadata": {
  "kernelspec": {
   "display_name": "Python 3",
   "language": "python",
   "name": "python3"
  },
  "language_info": {
   "codemirror_mode": {
    "name": "ipython",
    "version": 3
   },
   "file_extension": ".py",
   "mimetype": "text/x-python",
   "name": "python",
   "nbconvert_exporter": "python",
   "pygments_lexer": "ipython3",
   "version": "3.11.9"
  }
 },
 "nbformat": 4,
 "nbformat_minor": 2
}
