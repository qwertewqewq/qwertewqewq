{
  "cells": [
    {
      "cell_type": "markdown",
      "metadata": {
        "id": "4RQMhgsSMYuy"
      },
      "source": [
        "# Wstęp do Jupyter Notebook\n",
        "\n",
        "**Jupyter Notebook** to interaktywne środowisko programistyczne, które pozwala na tworzenie i udostępnianie dokumentów zawierających kod, równania, wizualizacje i tekst. Jest to narzędzie, które pozwala na tworzenie raportów, prezentacji, a także na naukę programowania.\n",
        "\n",
        "Większe partie tekstu w Jupyter Notebooku pisane są w formacie **Markdown**, który pozwala na jego formatowanie. Poniżej zobaczymy kilka przykładów formatowania tekstu w  [Markdown](https://www.markdownguide.org/cheat-sheet/) (więcej przykładów: [tu](https://quarto.org/docs/authoring/markdown-basics.html) oraz [tu](https://markdown-it.github.io/)). Wzory matematyczne można wprowadzać za pomocą składni [LaTeX](https://tilburgsciencehub.com/topics/research-skills/templates-dynamic-content/templates/amsmath-latex-cheatsheet/).\n",
        "Pamiętajcie, że zawsze można zapytać AI jak wygląda składnia Markdown lub LaTeX!\n",
        "\n",
        "Obliczenia matematyczne można wykonywać za pomocą języka **Python**. Składnia Pythona jest przejrzysta i intuicyjna, co pozwala na szybkie tworzenie skryptów i programów. W **Jupyter Notebook** (.ipynb) można wykonywać kod Pythona w komórkach kodu. \n",
        "\n",
        "**Colab** to hostowana przez Google usługa Jupyter Notebook, która nie wymaga konfiguracji i zapewnia bezpłatny dostęp do zasobów obliczeniowych, w tym procesorów graficznych. Colab szczególnie dobrze nadaje się do uczenia maszynowego, nauki o danych i edukacji.\n",
        "\n",
        "Korzystanie z narzędzi AI, takich jak [ChatGPT](https://openai.com/chatgpt), [Gemini](https://www.google.com/search?q=gemini+AI), [Claude](https://www.anthropic.com/claude), może znacznie ułatwić naukę matematyki na kursach akademickich. Te modele językowe oferują szybkie odpowiedzi, wyjaśnienia trudnych pojęć oraz pomoc w rozwiązywaniu zadań, umożliwiając interaktywną naukę w dowolnym momencie."
      ]
    },
    {
      "cell_type": "markdown",
      "metadata": {},
      "source": [
        "## Wstęp do języka Markdown\n",
        "\n",
        "* \"# Tytuł pierwszego poziomu\"\n",
        "* \"## Tytuł drugiego poziomu\"\n",
        "* \"### Tytuł trzeciego poziomu\"\n",
        "\n",
        "To jest **pogrubiony** tekst, a to jest *kursywa*. Możesz także połączyć oba style jak **_pogrubiona kursywa_**.\n",
        "\n",
        "Możesz wstawić listy:\n",
        "- Element 1\n",
        "- Element 2\n",
        "  - Pod-element 1\n",
        "  - Pod-element 2\n",
        "\n",
        "Albo listy numerowane:\n",
        "1. Pierwszy krok\n",
        "2. Drugi krok\n",
        "3. Trzeci krok\n",
        "\n",
        "Wstaw link: [Odwiedź Google](https://www.google.com)\n",
        "\n",
        "Wstaw obrazek:  \n",
        "![Przykładowy obrazek](https://www.mediawiki.org/static/images/icons/mediawikiwiki.svg)\n",
        "\n",
        "Wstaw fragment kodu w linii: `print(\"Hello World!\")`\n",
        "\n",
        "Wstaw blok kodu:\n",
        "\n",
        "```python\n",
        "def funkcja():\n",
        "    print(\"To jest blok kodu Pythona.\")\n",
        "```\n",
        "\n",
        "Równania matematyczne w LaTeX:\n",
        "\n",
        "Zatopione równanie: $e^{i\\pi} + 1 = 0$\n",
        "\n",
        "Wyróżnione równanie:\n",
        "\n",
        "$$e^{i\\pi} + 1 = 0$$"
      ]
    },
    {
      "cell_type": "markdown",
      "metadata": {
        "id": "G6-7ELzKRFYm"
      },
      "source": [
        "## Wstęp do matematyki w Jupyter Notebooks"
      ]
    },
    {
      "cell_type": "markdown",
      "metadata": {},
      "source": [
        "### Numeryczne obliczenia matematyczne\n",
        "\n",
        "#### Standardowa biblioteka matematyczna Pythona"
      ]
    },
    {
      "cell_type": "code",
      "execution_count": null,
      "metadata": {
        "colab": {
          "base_uri": "https://localhost:8080/"
        },
        "id": "R7t1WkmlMYuz",
        "outputId": "90321bb6-8804-4f17-9030-0cc8e37a24b0"
      },
      "outputs": [],
      "source": [
        "# Python jako kalulator\n",
        "2**10, 2**100"
      ]
    },
    {
      "cell_type": "code",
      "execution_count": null,
      "metadata": {
        "colab": {
          "base_uri": "https://localhost:8080/"
        },
        "id": "wc4-QLEXNdQx",
        "outputId": "64e169db-0d40-4ee5-aa78-898560aafe0b"
      },
      "outputs": [],
      "source": [
        "# Aby policzyć bardziej skomplikowane wyrażenia, trzeba użyć dodatkowych modułów (math, numpy, sympy)\n",
        "\n",
        "import math # moduł matematyczny\n",
        "\n",
        "# Zwróć sinus\n",
        "print(math.sin(math.pi))\n",
        "print(math.sin(math.pi/2))\n",
        "print(math.sqrt(2))"
      ]
    },
    {
      "cell_type": "code",
      "execution_count": null,
      "metadata": {
        "colab": {
          "base_uri": "https://localhost:8080/"
        },
        "id": "BWPonIFNMYuz",
        "outputId": "52d98986-c191-4589-e425-db3a2d8f096a"
      },
      "outputs": [],
      "source": [
        "# Prezentowanie wyników\n",
        "import math # moduł do obliczeń matematycznych\n",
        "print(f\"Pierwiastek kwadratowy z 2 to {math.sqrt(2)}\")\n",
        "print(f\"Sinus 30 stopni to {math.sin(math.radians(30))}\")"
      ]
    },
    {
      "cell_type": "markdown",
      "metadata": {},
      "source": [
        "#### Numeryczny Python (NumPy)\n",
        "\n",
        "Dla bardziej wymagających, wydajnych i dokładnych obliczeń używamy biblioteki Numpy"
      ]
    },
    {
      "cell_type": "code",
      "execution_count": null,
      "metadata": {
        "id": "X_-GRTicMYu0",
        "outputId": "11150131-9898-4f77-a4bc-207af8f00645"
      },
      "outputs": [],
      "source": [
        "import numpy as np # moduł do obliczeń numerycznych (Numerical Python)\n",
        "print(f\"Sinus 30 stopni to {np.sin(np.radians(30))}\")\n",
        "print(f\"Logarytm o podstawie 10 z 2 to {np.log10(2)}\")\n",
        "print(f\"Długość wektora [1,1,1,1,1] to {np.linalg.norm([1, 1, 1, 1, 1])}\")"
      ]
    },
    {
      "cell_type": "code",
      "execution_count": null,
      "metadata": {
        "id": "hNSVICqMMYu0",
        "outputId": "ecd107bd-7e00-4fcd-f4f7-ea660eedd9e9"
      },
      "outputs": [],
      "source": [
        "# Wyznacznik macierzy\n",
        "A = np.array([[1, 2], [3, 4]])\n",
        "print(f\"Wyznacznik macierzy A to {np.linalg.det(A)}\")"
      ]
    },
    {
      "cell_type": "code",
      "execution_count": null,
      "metadata": {
        "id": "_1qa_1NAMYu0",
        "outputId": "9f587029-dbf6-4cee-f927-b073d9955a50"
      },
      "outputs": [],
      "source": [
        "# Rozwiązywanie układów równań\n",
        "b = np.array([5, 7])\n",
        "x = np.linalg.solve(A, b)\n",
        "print(f\"Rozwiązanie układu równań Ax=b to x={x}\")"
      ]
    },
    {
      "cell_type": "code",
      "execution_count": null,
      "metadata": {
        "id": "4a0aEaMnMYu0",
        "outputId": "4f2310d4-b14e-4fcb-9f59-db75880419b3"
      },
      "outputs": [],
      "source": [
        "# Niestety rozwiązania numeryczne zawsze są aproksymacją, a nie dokładnym rozwiązaniem.\n",
        "print(f\"{1/3:.30f}\")"
      ]
    },
    {
      "cell_type": "markdown",
      "metadata": {},
      "source": [
        "#### Symboliczne obliczenia matematyczne\n",
        "\n",
        "SymPy to biblioteka Pythona do obliczeń symbolicznych, która pozwala na manipulowanie symbolami matematycznymi, takimi jak zmienne, równania, funkcje, pochodne, całki, granice i macierze."
      ]
    },
    {
      "cell_type": "code",
      "execution_count": 24,
      "metadata": {
        "id": "T3GDWE6sMYu0"
      },
      "outputs": [],
      "source": [
        "# Python pozwala na obliczenia symboliczne\n",
        "import sympy as sp\n",
        "x,y,z = sp.symbols('x y z') # deklaracja zmiennych\n",
        "f,g = sp.symbols('f g', cls=sp.Function) # deklaracja funkcji\n"
      ]
    },
    {
      "cell_type": "code",
      "execution_count": null,
      "metadata": {},
      "outputs": [],
      "source": [
        "# Sinus 30 stopni\n",
        "sp.sin(sp.rad(30)) # dokładny wynik 1/2"
      ]
    },
    {
      "cell_type": "code",
      "execution_count": null,
      "metadata": {},
      "outputs": [],
      "source": [
        "# Logarytm naturalny z e\n",
        "sp.log(sp.E)"
      ]
    },
    {
      "cell_type": "code",
      "execution_count": null,
      "metadata": {},
      "outputs": [],
      "source": [
        "# Długosć wektora [1,1,1,1,1]\n",
        "v = sp.Matrix([1,1,1,1,1])\n",
        "v.norm()"
      ]
    },
    {
      "cell_type": "code",
      "execution_count": 28,
      "metadata": {},
      "outputs": [],
      "source": [
        "f=f(x)"
      ]
    },
    {
      "cell_type": "code",
      "execution_count": null,
      "metadata": {
        "id": "VQiDFx2xMYu0",
        "outputId": "598a7879-c6f0-42e6-d154-61d4d44915d8"
      },
      "outputs": [],
      "source": [
        "x+y # operacje na zmiennych"
      ]
    },
    {
      "cell_type": "code",
      "execution_count": null,
      "metadata": {
        "id": "nHRRQFuiMYu1",
        "outputId": "ee15d070-fc38-4bf2-c4a6-d7c378d66a83"
      },
      "outputs": [],
      "source": [
        "eq1=((x-y)**2).expand() # rozwinięcie wyrażenia\n",
        "eq1"
      ]
    },
    {
      "cell_type": "code",
      "execution_count": null,
      "metadata": {
        "id": "zeoRcyAEMYu1",
        "outputId": "1021cd81-61a3-4fbf-c1c7-58fb5156fea5"
      },
      "outputs": [],
      "source": [
        "eq2=eq1.subs(x,1) # podstawienie wartości\n",
        "eq2"
      ]
    },
    {
      "cell_type": "code",
      "execution_count": null,
      "metadata": {
        "id": "PCkkk-HZMYu1",
        "outputId": "6fc0e444-35e7-4880-ced8-66027ac1b364"
      },
      "outputs": [],
      "source": [
        "# rozwiązanie eq2\n",
        "sol=sp.solveset(eq2,y)\n",
        "sol"
      ]
    },
    {
      "cell_type": "code",
      "execution_count": null,
      "metadata": {
        "id": "kBXDaY-2MYu1",
        "outputId": "8a4226a4-e111-4b59-fcf8-97ab152ab3de"
      },
      "outputs": [],
      "source": [
        "# różniczkowanie\n",
        "f=sp.sin(x)\n",
        "sp.diff(f,x)\n"
      ]
    },
    {
      "cell_type": "code",
      "execution_count": null,
      "metadata": {
        "id": "-60QJ-QnMYu1",
        "outputId": "b9f0d84d-b5f8-4e3b-b6df-c45b9854a720"
      },
      "outputs": [],
      "source": [
        "# bardziej skomplikowane wyrażenia\n",
        "f=sp.sin(x**sp.cos(x))\n",
        "f"
      ]
    },
    {
      "cell_type": "code",
      "execution_count": null,
      "metadata": {
        "id": "-PAlB6dvMYu1",
        "outputId": "8dc261a7-401d-4d5c-e66e-e24b3f218d4f"
      },
      "outputs": [],
      "source": [
        "f.diff(x)"
      ]
    },
    {
      "cell_type": "code",
      "execution_count": null,
      "metadata": {
        "id": "MicVcyAvMYu1",
        "outputId": "917edcdc-adf0-492c-cf06-f3f46c0f1da5"
      },
      "outputs": [],
      "source": [
        "# całkowanie\n",
        "f=sp.sin(x)*sp.cos(x)*x\n",
        "f.integrate(x)"
      ]
    },
    {
      "cell_type": "code",
      "execution_count": null,
      "metadata": {},
      "outputs": [],
      "source": [
        "# wykres paraboli\n",
        "f=x**2\n",
        "sp.plot(f);\n"
      ]
    },
    {
      "cell_type": "code",
      "execution_count": null,
      "metadata": {},
      "outputs": [],
      "source": [
        "sp.integrate(x**2, x)"
      ]
    }
  ],
  "metadata": {
    "colab": {
      "provenance": []
    },
    "kernelspec": {
      "display_name": ".venv",
      "language": "python",
      "name": "python3"
    },
    "language_info": {
      "codemirror_mode": {
        "name": "ipython",
        "version": 3
      },
      "file_extension": ".py",
      "mimetype": "text/x-python",
      "name": "python",
      "nbconvert_exporter": "python",
      "pygments_lexer": "ipython3",
      "version": "3.11.9"
    }
  },
  "nbformat": 4,
  "nbformat_minor": 0
}
