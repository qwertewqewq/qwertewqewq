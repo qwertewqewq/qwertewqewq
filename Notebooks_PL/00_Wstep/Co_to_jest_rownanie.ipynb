{
 "cells": [
  {
   "cell_type": "markdown",
   "metadata": {},
   "source": [
    "# Równania w matematyce\n",
    "\n",
    "## Definicja równania\n",
    "\n",
    "**Równanie** w matematyce to formalne wyrażenie, które określa, że dwie wartości bądź wyrażenia są sobie równe. Składa się z dwóch części: lewej i prawej strony, oddzielonych znakiem równości \"=\". \n",
    "\n",
    "Rozwiązywanie równań polega na znalezieniu wartości zmiennych (nazywanych niewiadomymi), dla których równanie jest spełnione.\n",
    "\n"
   ]
  },
  {
   "cell_type": "markdown",
   "metadata": {},
   "source": [
    "\n",
    "**Przykład 1**\n",
    "\n",
    "Rozpatrzmy równanie $2x + 3 = 7$. W tym przypadku mamy jedną zmienną $x$. Rozwiązując równanie, chcemy znaleźć wartość $x$, dla której lewa strona równania jest równa prawej stronie. Czyli rozwiązanie równania jest to zbiór\n",
    "\n",
    "$$\n",
    "\\{x \\in \\mathbb{R} : 2x + 3 = 7\\} = \\{x \\in \\mathbb{R} : x = 2\\}= \\{2\\}\n",
    "$$\n",
    "\n",
    "gdzie\n",
    "\n",
    "1. **$\\{x \\in \\mathbb{R} : 2x + 3 = 7\\}$**  \n",
    "   Odczytujemy to jako:  \n",
    "   \"Zbiór wszystkich $x$ należących do liczb rzeczywistych, dla których $2x + 3 = 7$.\"\n",
    "\n",
    "2. **$\\{x \\in \\mathbb{R} : x = 2\\}$**  \n",
    "   Odczytujemy to jako:  \n",
    "   \"Zbiór wszystkich $x$ należących do liczb rzeczywistych, dla których $x = 2$.\"\n",
    "\n",
    "3. **$\\{2\\}$**  \n",
    "   Odczytujemy to jako:  \n",
    "   \"Zbiór zawierający tylko liczbę 2.\"\n",
    "\n",
    "Czyli cała konstrukcja pokazuje, że rozwiązaniem równania $2x + 3 = 7$ jest liczba $x = 2$, co zapisujemy jako zbiór jednoelementowy $\\{2\\}$.\n",
    "\n"
   ]
  },
  {
   "cell_type": "markdown",
   "metadata": {},
   "source": [
    "\n",
    "\n",
    "**Przykład 2**\n",
    "\n",
    "Rozpatrzmy równanie $x^2 - 4 = 0$. W tym przypadku mamy jedną zmienną $x$. Rozwiązując równanie, chcemy znaleźć wartość $x$, dla której lewa strona równania jest równa prawej stronie. Czyli rozwiązaniem równania jest zbiór\n",
    "\n",
    "$$\n",
    "\\{x \\in \\mathbb{R} : x^2 - 4 = 0\\}= \\{x \\in \\mathbb{R} : x^2 = 4\\} = \\{x \\in \\mathbb{R} : x = 2 \\lor x = -2\\} = \\{2, -2\\}\n",
    "$$\n",
    "\n",
    "gdzie\n",
    "\n",
    "1. **$\\{x \\in \\mathbb{R} : x^2 - 4 = 0\\}$**  \n",
    "   Odczytujemy to jako:  \n",
    "   \"Zbiór wszystkich $x$ należących do liczb rzeczywistych, dla których $x^2 - 4 = 0$.\"\n",
    "\n",
    "2. **$\\{x \\in \\mathbb{R} : x^2 = 4\\}$**  \n",
    "   Odczytujemy to jako:  \n",
    "   \"Zbiór wszystkich $x$ należących do liczb rzeczywistych, dla których $x^2 = 4$.\"\n",
    "\n",
    "3. **$\\{x \\in \\mathbb{R} : x = 2 \\lor x = -2\\}$**  \n",
    "   Odczytujemy to jako:  \n",
    "   \"Zbiór wszystkich $x$ należących do liczb rzeczywistych, dla których $x = 2$ lub $x = -2$.\"\n",
    "\n",
    "4. **$\\{2, -2\\}$**  \n",
    "   Odczytujemy to jako:  \n",
    "   \"Zbiór zawierający liczby 2 i -2.\"\n",
    "\n",
    "Cała konstrukcja pokazuje, że rozwiązaniem równania $x^2 - 4 = 0$ są liczby $x = 2$ oraz $x = -2$, co zapisujemy jako zbiór $\\{2, -2\\}$.\n",
    "\n"
   ]
  },
  {
   "cell_type": "markdown",
   "metadata": {},
   "source": [
    "\n",
    "\n",
    "**Przykład 3**\n",
    "\n",
    "Rozpatrzmy prostą zadaną równaniem $y=2x+1$ . W tym przypadku mamy dwie zmienne $x$ i $y$. Rozwiązując równanie, chcemy znaleźć wartości $x$ i $y$, dla których lewa strona równania jest równa prawej stronie. Czyli rozwiązaniem równania jest zbiór\n",
    "\n",
    "$$\n",
    "\\{(x, y) \\in \\mathbb{R}^2 : (x \\in \\mathbb{R}) \\land (y = 2x + 1)\\} = \\{(x, 2x + 1) : x \\in \\mathbb{R}\\}\n",
    "$$\n",
    "\n",
    "gdzie\n",
    "\n",
    "1. **$\\{(x, y) \\in \\mathbb{R}^2 : (x \\in \\mathbb{R}) \\land (y = 2x + 1)\\}$**  \n",
    "   Odczytujemy to jako:  \n",
    "   \"Zbiór wszystkich par $(x, y)$ należących do płaszczyzny $\\mathbb{R}^2$, gdzie $x$ jest liczbą rzeczywistą oraz $y = 2x + 1$.\"\n",
    "\n",
    "2. **$\\{(x, 2x + 1) : x \\in \\mathbb{R}\\}$**  \n",
    "   Odczytujemy to jako:  \n",
    "   \"Zbiór wszystkich par postaci $(x, 2x + 1)$, gdzie $x$ należy do liczb rzeczywistych.\"\n",
    "\n",
    "Cała konstrukcja pokazuje, że zbiór punktów $(x, y)$ spełniających równanie $y = 2x + 1$ można opisać jako zbiór par postaci $(x, 2x + 1)$, gdzie $x$ jest liczbą rzeczywistą.\n"
   ]
  },
  {
   "cell_type": "markdown",
   "metadata": {},
   "source": [
    "\n",
    "\n",
    "**Przykład 4**\n",
    "\n",
    "Czasami mamy do czynienia z równaniami uwikłanymi $F(x,y)$, które nie można zapisać w postaci $y=f(x)$ lub $x=f(y)$. Rozwiązanie rówania tak jak wyżej sprowadza się do znaleznienia wszystkich par $(x,y)$ spełniających równanie $F(x,y)$ co zapisujemy\n",
    "\n",
    "$$\n",
    "\\{(x, y) \\in \\mathbb{R}^2 : F(x, y) = 0\\}\n",
    "$$\n",
    "\n",
    "Równanie okręgu $x^2 + y^2 = 1$ jest przykładem równania uwikłanego. Poszukajmy jego rozwiązania.\n",
    "Rozpatrzmy następujące równości\n",
    "\n",
    "$$\n",
    "\\begin{cases}\n",
    "y_1=+\\sqrt{1-x^2}\\quad \\text{gdzie } x\\in[-1,1]\\\\\n",
    "y_2=-\\sqrt{1-x^2}\\quad \\text{gdzie } x\\in[-1,1]\\\\\n",
    "\\end{cases}\n",
    "$$\n",
    "\n",
    "widzimy, że $y_1^2=1-x^2$ oraz $y_2^2=1-x^2$. Oznacza to, że $y_1$ i $y_2$ spełniają równanie $x^2+y^2=1$.\n",
    " Stąd rozwiązaniem równania $x^2+y^2=1$ jest zbiór\n",
    "\n",
    "$$\n",
    "\\{(x, y) \\in \\mathbb{R}^2 : x^2 + y^2 = 1\\} = \\{(x, \\sqrt{1-x^2}) : x \\in [-1, 1]\\}\\cup\\{(x,-\\sqrt{1-x^2})) : x \\in [-1, 1]\\}\n",
    "$$\n",
    "\n",
    "1. **$\\{(x, y) \\in \\mathbb{R}^2 : x^2 + y^2 = 1\\}$**  \n",
    "   Odczytujemy to jako:  \n",
    "   \"Zbiór wszystkich par $(x, y)$ należących do płaszczyzny $\\mathbb{R}^2$, dla których $x^2 + y^2 = 1$. Jest to równanie okręgu o promieniu 1 i środku w punkcie $(0, 0)$.\"\n",
    "\n",
    "2. **$\\{(x, \\sqrt{1 - x^2}) : x \\in [-1, 1]\\}$**  \n",
    "   Odczytujemy to jako:  \n",
    "   \"Zbiór wszystkich par postaci $(x, \\sqrt{1 - x^2})$, gdzie $x$ należy do przedziału $[-1, 1]$. Jest to górny półokrąg\".\n",
    "\n",
    "3. **$\\{(x, -\\sqrt{1 - x^2}) : x \\in [-1, 1]\\}$**  \n",
    "   Odczytujemy to jako:  \n",
    "   \"Zbiór wszystkich par postaci $(x, -\\sqrt{1 - x^2})$, gdzie $x$ należy do przedziału $[-1, 1]$. Jest to dolny półokrąg\".\n",
    "\n",
    "Cała konstrukcja pokazuje, że zbiór punktów $(x, y)$ spełniających równanie okręgu $x^2 + y^2 = 1$ można opisać jako sumę zbiorów: górnego półokręgu $\\{(x, \\sqrt{1 - x^2})\\}$ i dolnego półokręgu $\\{(x, -\\sqrt{1 - x^2})\\}$, gdzie $x$ należy do przedziału $[-1, 1]$.\n"
   ]
  },
  {
   "cell_type": "markdown",
   "metadata": {},
   "source": [
    "# Teraz zobaczymy jak możemy manipulować równaniami w Pythonie"
   ]
  },
  {
   "cell_type": "code",
   "execution_count": null,
   "metadata": {},
   "outputs": [],
   "source": [
    "# Jeśli odwołamy się do zmiennej niezdefiniowanej w funkcji, to Python zwróci błąd\n",
    "z"
   ]
  },
  {
   "cell_type": "code",
   "execution_count": null,
   "metadata": {},
   "outputs": [],
   "source": [
    "# możemy zdefiniować zmienną z\n",
    "z = 10 # przypisanie wartości 10 do zmiennej z\n",
    "z      # wyświetlenie wartości zmiennej z"
   ]
  },
  {
   "cell_type": "code",
   "execution_count": null,
   "metadata": {},
   "outputs": [],
   "source": [
    "# możeny dodać 1 do z\n",
    "z = z + 1 # przypisanie wartości z+1 do zmiennej z\n",
    "z         # wyświetlenie wartości zmiennej z"
   ]
  },
  {
   "cell_type": "markdown",
   "metadata": {},
   "source": [
    "Problem z takim podejściem jest to, że nie pozwala nam manipulować symbolami! Powyższa definicja przypisuje do symbolu wartość numeryczną a nie symboliczną. W Pythonie mamy do dyspozycji bibliotekę `sympy` która pozwala na manipulowanie symbolami.\n",
    "\n",
    "Poniżej pokażemy kilka przykładów jak możemy manipulować symbolami i równaniami w Pythonie."
   ]
  },
  {
   "cell_type": "code",
   "execution_count": 71,
   "metadata": {},
   "outputs": [],
   "source": [
    "# Najpierw wczytujemy bibliotekę sympy (Symbolic Python)\n",
    "import sympy as sp\n",
    "\n",
    "# Definiujemy zmienne x i y jako symbole\n",
    "x, y = sp.symbols('x y')"
   ]
  },
  {
   "cell_type": "code",
   "execution_count": null,
   "metadata": {},
   "outputs": [],
   "source": [
    "x # x jest teraz symbolem"
   ]
  },
  {
   "cell_type": "code",
   "execution_count": null,
   "metadata": {},
   "outputs": [],
   "source": [
    "x+y # Python zwraca x + y jako wyrażenie nie jako wartość liczbową"
   ]
  },
  {
   "cell_type": "code",
   "execution_count": null,
   "metadata": {},
   "outputs": [],
   "source": [
    "# Możemy wykonywać bardziej skomplikowane operacje na zmiennych\n",
    "expr1 = (x+y)**2 # przypisujemy do zmiennej expr1 wyrażenie (x+y)^2\n",
    "expr1            # wyświetlamy wartość zmiennej expr1"
   ]
  },
  {
   "cell_type": "code",
   "execution_count": null,
   "metadata": {},
   "outputs": [],
   "source": [
    "# Możemy rozwinąć powyższe wyrażenie\n",
    "sp.expand(expr1) # komenda expand rozwija wyrażenie"
   ]
  },
  {
   "cell_type": "code",
   "execution_count": null,
   "metadata": {},
   "outputs": [],
   "source": [
    "# Bardziej skomplikowane wyrażenie\n",
    "expr2=(x+y)**5 # przypisujemy do zmiennej expr2 wyrażenie (x+y)^5\n",
    "expr2          # wyświetlamy wartość zmiennej expr2"
   ]
  },
  {
   "cell_type": "code",
   "execution_count": null,
   "metadata": {},
   "outputs": [],
   "source": [
    "expr2_expanded = sp.expand(expr2) # rozwijamy wyrażenie\n",
    "expr2_expanded                    # wyświetlamy wartość zmiennej expr2_expanded"
   ]
  },
  {
   "cell_type": "code",
   "execution_count": null,
   "metadata": {},
   "outputs": [],
   "source": [
    "# możemy podstawić konkretne wartości do zmiennych np x=2\n",
    "expr2_expanded.subs(x,2)  # sub(x,2) podstawia x=2 do wyrażenia"
   ]
  },
  {
   "cell_type": "code",
   "execution_count": null,
   "metadata": {},
   "outputs": [],
   "source": [
    "# W sympy możemy definiować równania!\n",
    "eq1 = sp.Eq(x**2, 1)\n",
    "eq1"
   ]
  },
  {
   "cell_type": "code",
   "execution_count": null,
   "metadata": {},
   "outputs": [],
   "source": [
    "# możemy zapytać o rozwiązania równania\n",
    "sol_eq1 = sp.solve(eq1)\n",
    "sol_eq1"
   ]
  },
  {
   "cell_type": "code",
   "execution_count": null,
   "metadata": {},
   "outputs": [],
   "source": [
    "# sprawdźmy czy pierwsze rozwiązanie spełnia równanie\n",
    "eq1.subs(x,sol_eq1[0]) # podstawiamy rozwiązanie do równania i sprawdzamy czy równanie jest spełnione"
   ]
  },
  {
   "cell_type": "code",
   "execution_count": null,
   "metadata": {},
   "outputs": [],
   "source": [
    "# sprawdźmy czy drugie rozwiązanie spełnia równanie\n",
    "eq1.subs(x,sol_eq1[1]) # podstawiamy rozwiązanie do równania i sprawdzamy czy równanie jest spełnione"
   ]
  },
  {
   "cell_type": "code",
   "execution_count": null,
   "metadata": {},
   "outputs": [],
   "source": [
    "# Kolejny przykład\n",
    "eq2 = sp.Eq(x**2 - 4*x + 3, 0)\n",
    "eq2"
   ]
  },
  {
   "cell_type": "code",
   "execution_count": null,
   "metadata": {},
   "outputs": [],
   "source": [
    "# rozwiązania równania\n",
    "sol_eq2 = sp.solve(eq2)\n",
    "sol_eq2"
   ]
  },
  {
   "cell_type": "code",
   "execution_count": null,
   "metadata": {},
   "outputs": [],
   "source": [
    "# Sprawdzamy rozwiązania\n",
    "eq2.subs(x,sol_eq2[0]) and eq2.subs(x,sol_eq2[1])"
   ]
  },
  {
   "cell_type": "code",
   "execution_count": null,
   "metadata": {},
   "outputs": [],
   "source": [
    "# Równanie z dwoma niewiadomymi\n",
    "eq3 = sp.Eq(x**2 + y**2, 1)\n",
    "eq3"
   ]
  },
  {
   "cell_type": "code",
   "execution_count": null,
   "metadata": {},
   "outputs": [],
   "source": [
    "# rozwiązania równania kwadratowego z dwoma niewiadomymi\n",
    "sol_eq3 = sp.solve(eq3,y) # rozwiązania równania z y jako funkcja od x\n",
    "sol_eq3"
   ]
  },
  {
   "cell_type": "code",
   "execution_count": null,
   "metadata": {},
   "outputs": [],
   "source": [
    "# możemy wyświetlić rozwiązania równania w bardziej czytelny sposób\n",
    "sol_eq3[0]\n"
   ]
  },
  {
   "cell_type": "code",
   "execution_count": null,
   "metadata": {},
   "outputs": [],
   "source": [
    "sol_eq3[1]"
   ]
  },
  {
   "cell_type": "code",
   "execution_count": null,
   "metadata": {},
   "outputs": [],
   "source": [
    "# Sprawdzamy czy rozwiązania spełniają równanie\n",
    "eq3.subs(y,sol_eq3[0]) and eq3.subs(y,sol_eq3[1])"
   ]
  },
  {
   "cell_type": "code",
   "execution_count": 91,
   "metadata": {},
   "outputs": [],
   "source": [
    "# Ustawiamy sposób wyświetlania wykresów\n",
    "import matplotlib.pyplot as plt\n",
    "plt.rcParams['figure.figsize'] = [3, 3] # ustawienie rozmiaru wykresu oraz aspect_ratio=1"
   ]
  },
  {
   "cell_type": "code",
   "execution_count": null,
   "metadata": {},
   "outputs": [],
   "source": [
    "# Możemy również narysować rozwiązania równania na płaszczyźnie aspect_ratio=1\n",
    "sp.plot_implicit(eq3, (x, -2, 2), (y, -2, 2));"
   ]
  },
  {
   "cell_type": "code",
   "execution_count": null,
   "metadata": {},
   "outputs": [],
   "source": [
    "ellipse = sp.Eq(x**2/4 + y**2, 1)\n",
    "ellipse"
   ]
  },
  {
   "cell_type": "code",
   "execution_count": null,
   "metadata": {},
   "outputs": [],
   "source": [
    "# Możemy również narysować rozwiązania równania na płaszczyźnie aspect_ratio=1\n",
    "sp.plot_implicit(ellipse, (x, -3, 3), (y, -3, 3));"
   ]
  },
  {
   "cell_type": "code",
   "execution_count": null,
   "metadata": {},
   "outputs": [],
   "source": [
    "# Możemy też narysować kilka równań na jednym wykresie\n",
    "prosta = sp.Eq(y, 2*x-1)\n",
    "okrag = sp.Eq(x**2 + y**2, 1)\n",
    "\n",
    "# Rysowanie okręgu i elipsy na jednym wykresie\n",
    "p1 = sp.plot_implicit(prosta, (x, -2, 2), (y, -2, 2), show=False)\n",
    "p2 = sp.plot_implicit(okrag, (x, -2, 2), (y, -2, 2), show=False)\n",
    "\n",
    "# Dodanie wykresów do jednego\n",
    "p1.extend(p2) # \"doklejanie\"\n",
    "p1.show()"
   ]
  },
  {
   "cell_type": "code",
   "execution_count": null,
   "metadata": {},
   "outputs": [],
   "source": [
    "# Zobaczmy gdzie przecinają się okrąg i prosta\n",
    "punkty_przeciecia = sp.solve([prosta, okrag])\n",
    "punkty_przeciecia"
   ]
  },
  {
   "cell_type": "code",
   "execution_count": null,
   "metadata": {},
   "outputs": [],
   "source": [
    "# Jak sprawdzić czy dwa równania są równoważne?\n",
    "\n",
    "# zapiszemy to samo w innej postaci\n",
    "r1=sp.Eq(x + y, 1)\n",
    "r1\n"
   ]
  },
  {
   "cell_type": "code",
   "execution_count": null,
   "metadata": {},
   "outputs": [],
   "source": [
    "r2=sp.Eq(2*x - 2, -2*y)\n",
    "r2"
   ]
  },
  {
   "cell_type": "code",
   "execution_count": null,
   "metadata": {},
   "outputs": [],
   "source": [
    "# Nie możemy porównać w sposób naturalny dwóch równań, ale możemy sprawdzić czy są równoważne\n",
    "r1==r2"
   ]
  },
  {
   "cell_type": "code",
   "execution_count": null,
   "metadata": {},
   "outputs": [],
   "source": [
    "# Ale jeśli zrobimy wyrażenie\n",
    "ratio=(r1.lhs-r1.rhs)/(r2.lhs-r2.rhs)\n",
    "ratio"
   ]
  },
  {
   "cell_type": "code",
   "execution_count": null,
   "metadata": {},
   "outputs": [],
   "source": [
    "# stała oznacza, że równania są równoważne! Zadanie dla studenta: uzasadnić dlaczego jest to prawda.\n",
    "sp.simplify(ratio) "
   ]
  }
 ],
 "metadata": {
  "kernelspec": {
   "display_name": ".venv",
   "language": "python",
   "name": "python3"
  },
  "language_info": {
   "codemirror_mode": {
    "name": "ipython",
    "version": 3
   },
   "file_extension": ".py",
   "mimetype": "text/x-python",
   "name": "python",
   "nbconvert_exporter": "python",
   "pygments_lexer": "ipython3",
   "version": "3.11.9"
  }
 },
 "nbformat": 4,
 "nbformat_minor": 2
}
