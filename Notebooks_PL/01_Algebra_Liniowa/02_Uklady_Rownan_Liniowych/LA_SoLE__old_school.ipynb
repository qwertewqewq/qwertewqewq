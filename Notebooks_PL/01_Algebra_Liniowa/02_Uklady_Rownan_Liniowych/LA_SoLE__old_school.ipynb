{
 "cells": [
  {
   "cell_type": "markdown",
   "metadata": {},
   "source": [
    "## Metoda szkolna rozwiązania układu równań liniowych"
   ]
  },
  {
   "cell_type": "code",
   "execution_count": 9,
   "metadata": {},
   "outputs": [],
   "source": [
    "import sympy as sp\n",
    "from sympy import symbols, Eq, expand, solve\n",
    "\n",
    "class EnhancedEq(Eq):\n",
    "    def __add__(self, other):\n",
    "        return EnhancedEq(self.lhs + other.lhs, self.rhs + other.rhs)\n",
    "\n",
    "    def __sub__(self, other):\n",
    "        return EnhancedEq(self.lhs - other.lhs, self.rhs - other.rhs)\n",
    "\n",
    "    def __mul__(self, scalar):\n",
    "        return EnhancedEq(scalar * self.lhs, scalar * self.rhs)\n",
    "\n",
    "    def __rmul__(self, scalar):\n",
    "        return self.__mul__(scalar)\n",
    "\n",
    "    def simplify(self):\n",
    "        return EnhancedEq(expand(self.lhs), expand(self.rhs))\n",
    "\n",
    "    def substitute(self, *args, **kwargs):\n",
    "        return EnhancedEq(self.lhs.subs(*args, **kwargs), self.rhs.subs(*args, **kwargs))\n",
    "\n",
    "    def solve_for(self, symbol):\n",
    "        return solve(self, symbol)\n",
    "\n",
    "# Przykład użycia:\n",
    "x, y = symbols('x y')\n",
    "\n",
    "# Definicja równań\n",
    "eq1 = EnhancedEq(2*x + y, 5)\n",
    "eq2 = EnhancedEq(x - y, 1)"
   ]
  },
  {
   "cell_type": "code",
   "execution_count": 10,
   "metadata": {},
   "outputs": [
    {
     "name": "stdout",
     "output_type": "stream",
     "text": [
      "Piersze równanie:\n"
     ]
    },
    {
     "data": {
      "text/latex": [
       "$\\displaystyle 2 x + y = 5$"
      ],
      "text/plain": [
       "Eq(2*x + y, 5)"
      ]
     },
     "execution_count": 10,
     "metadata": {},
     "output_type": "execute_result"
    }
   ],
   "source": [
    "print(\"Piersze równanie:\")\n",
    "eq1"
   ]
  },
  {
   "cell_type": "code",
   "execution_count": 11,
   "metadata": {},
   "outputs": [
    {
     "name": "stdout",
     "output_type": "stream",
     "text": [
      "Drugie równanie:\n"
     ]
    },
    {
     "data": {
      "text/latex": [
       "$\\displaystyle x - y = 1$"
      ],
      "text/plain": [
       "Eq(x - y, 1)"
      ]
     },
     "execution_count": 11,
     "metadata": {},
     "output_type": "execute_result"
    }
   ],
   "source": [
    "print(\"Drugie równanie:\")\n",
    "eq2"
   ]
  },
  {
   "cell_type": "code",
   "execution_count": 12,
   "metadata": {},
   "outputs": [
    {
     "data": {
      "text/latex": [
       "$\\displaystyle 3 x = 6$"
      ],
      "text/plain": [
       "Eq(3*x, 6)"
      ]
     },
     "execution_count": 12,
     "metadata": {},
     "output_type": "execute_result"
    }
   ],
   "source": [
    "# Dodajemy do siebie równania\n",
    "eq3 = eq1 + eq2\n",
    "eq3"
   ]
  },
  {
   "cell_type": "code",
   "execution_count": 13,
   "metadata": {},
   "outputs": [
    {
     "data": {
      "text/latex": [
       "$\\displaystyle 2$"
      ],
      "text/plain": [
       "2"
      ]
     },
     "execution_count": 13,
     "metadata": {},
     "output_type": "execute_result"
    }
   ],
   "source": [
    "# Mamy równanie z jedną niewiadomą więc możemy je rozwiązać\n",
    "sol_x = eq3.solve_for(x)[0]\n",
    "sol_x"
   ]
  },
  {
   "cell_type": "code",
   "execution_count": 14,
   "metadata": {},
   "outputs": [
    {
     "data": {
      "text/latex": [
       "$\\displaystyle 2 - y = 1$"
      ],
      "text/plain": [
       "Eq(2 - y, 1)"
      ]
     },
     "execution_count": 14,
     "metadata": {},
     "output_type": "execute_result"
    }
   ],
   "source": [
    "# Podstawiamy rozwiązanie do równania 2\n",
    "eq2=eq2.substitute(x,sol_x)\n",
    "eq2"
   ]
  },
  {
   "cell_type": "code",
   "execution_count": 15,
   "metadata": {},
   "outputs": [
    {
     "data": {
      "text/latex": [
       "$\\displaystyle 1$"
      ],
      "text/plain": [
       "1"
      ]
     },
     "execution_count": 15,
     "metadata": {},
     "output_type": "execute_result"
    }
   ],
   "source": [
    "# Dostajemy równanie z jedną niewiadomą więc możemy je rozwiązać\n",
    "eq2.solve_for(y)[0]"
   ]
  },
  {
   "cell_type": "code",
   "execution_count": 16,
   "metadata": {},
   "outputs": [
    {
     "data": {
      "text/plain": [
       "{x: 2, y: 1}"
      ]
     },
     "execution_count": 16,
     "metadata": {},
     "output_type": "execute_result"
    }
   ],
   "source": [
    "# czyli x=2, y=1\n",
    "# Sprawdzamy w sympy\n",
    "sp.solve([eq1,eq2])"
   ]
  },
  {
   "cell_type": "markdown",
   "metadata": {},
   "source": [
    "---\n",
    "\n",
    "### Zadania dla studentów\n",
    "\n",
    "Analogicznie jak wyżej rozwiąż następujące układy równań:\n",
    "\n",
    "* $3x-2y=5, \\quad 2x+3y=7$,\n",
    "* $2x-3y=10, \\quad 4x+5y=20$,\n",
    "* $2x - y + z = 3, \\quad x + 2y - z = 1, \\quad 3x - y + 2z = 11$.\n",
    "* $2x-3y+4z+2t=2, \\quad 3x+2y-5z+3t=3, \\quad 4x-3y+2z-5t=4, \\quad 5x+4y-3z+2t=5$.\n"
   ]
  },
  {
   "cell_type": "markdown",
   "metadata": {},
   "source": []
  }
 ],
 "metadata": {
  "kernelspec": {
   "display_name": ".venv",
   "language": "python",
   "name": "python3"
  },
  "language_info": {
   "codemirror_mode": {
    "name": "ipython",
    "version": 3
   },
   "file_extension": ".py",
   "mimetype": "text/x-python",
   "name": "python",
   "nbconvert_exporter": "python",
   "pygments_lexer": "ipython3",
   "version": "3.11.9"
  }
 },
 "nbformat": 4,
 "nbformat_minor": 2
}
