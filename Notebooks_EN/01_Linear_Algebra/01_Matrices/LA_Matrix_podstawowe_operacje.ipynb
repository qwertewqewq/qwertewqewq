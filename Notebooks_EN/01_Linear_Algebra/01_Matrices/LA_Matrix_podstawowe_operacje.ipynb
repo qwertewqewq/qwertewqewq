{
 "cells": [
  {
   "cell_type": "markdown",
   "metadata": {},
   "source": [
    "## Podstawowe operacje na macierzach\n",
    "\n",
    "### Dodawanie macierzy\n",
    "\n",
    "Niech $A=[a_{ij}]$ i $B=[b_{ij}]$ będą dwiema macierzami o wymiarach $m \\times n$. Wówczas suma macierzy $A$ i $B$ jest macierzą $C=[c_{ij}]$ o wymiarach $m \\times n$, gdzie $c_{ij}=a_{ij}+b_{ij}$.\n",
    "\n",
    "### Mnożenie macierzy przez skalar\n",
    "\n",
    "Niech $A=[a_{ij}]$ będzie macierzą o wymiarach $m \\times n$, a $k$ będzie skalar. Wówczas iloczyn macierzy $A$ i skalaru $k$ jest macierzą $B=[b_{ij}]$ o wymiarach $m \\times n$, gdzie $b_{ij}=k \\cdot a_{ij}$.\n",
    "\n",
    "### Mnożenie macierzy\n",
    "\n",
    "Niech $A=[a_{ij}]$ będzie macierzą o wymiarach $m \\times n$, a $B=[b_{ij}]$ będzie macierzą o wymiarach $n \\times p$. Wówczas iloczyn macierzy $A$ i $B$ jest macierzą $C=[c_{ij}]$ o wymiarach $m \\times p$, gdzie $c_{ij}=\\sum_{k=1}^{n} a_{ik} \\cdot b_{kj}$."
   ]
  },
  {
   "cell_type": "markdown",
   "metadata": {},
   "source": [
    "### Przykład 1\n",
    "\n",
    "Niech $A=\\begin{bmatrix} 1 & 2 \\\\ 3 & 4 \\end{bmatrix}$ i $B=\\begin{bmatrix} 5 & 6 \\\\ 7 & 8 \\end{bmatrix}$. \n",
    "Wówczas suma macierzy $A$ i $B$ wynosi \n",
    "\n",
    "$$\n",
    "C=\n",
    "A+B=\\begin{bmatrix} 1+5 & 2+6 \\\\ 3+7 & 4+8 \\end{bmatrix}=\\begin{bmatrix} 6 & 8 \\\\ 10 & 12 \\end{bmatrix}.\n",
    "$$\n",
    "\n",
    "### Przykład 2\n",
    "\n",
    "Niech $A=\\begin{bmatrix} 1 & 2 \\\\ 3 & 4 \\end{bmatrix}$ i $k=2$.\n",
    "\n",
    "Wówczas iloczyn macierzy $A$ i skalaru $k$ wynosi\n",
    "\n",
    "$$\n",
    "B=\n",
    "k \\cdot A=2 \\cdot \\begin{bmatrix} 1 & 2 \\\\ 3 & 4 \\end{bmatrix}=\\begin{bmatrix} 2*1 & 2*2 \\\\ 2*3 & 2*4 \\end{bmatrix}=\\begin{bmatrix} 2 & 4 \\\\ 6 & 8 \\end{bmatrix}.\n",
    "$$\n",
    "\n",
    "### Przykład 3\n",
    "\n",
    "Niech \n",
    "$A=\\begin{bmatrix} 1 & 2 \\\\ 3 & 4 \\end{bmatrix}$ \n",
    "i \n",
    "$B=\\begin{bmatrix} 5 & 6 \\\\ 7 & 8 \\end{bmatrix}$.\n",
    "\n",
    "Wówczas iloczyn macierzy $A$ i $B$ wynosi\n",
    "\n",
    "$$\n",
    "C=\n",
    "A \\cdot B=\\begin{bmatrix} 1*5+2*7 & 1*6+2*8 \\\\ 3*5+4*7 & 3*6+4*8 \\end{bmatrix}=\\begin{bmatrix} 19 & 22 \\\\ 43 & 50 \\end{bmatrix}.\n",
    "$$\n"
   ]
  },
  {
   "cell_type": "code",
   "execution_count": 2,
   "metadata": {},
   "outputs": [
    {
     "data": {
      "text/latex": [
       "$\\displaystyle \\left[\\begin{matrix}1 & 2\\\\3 & 4\\end{matrix}\\right]$"
      ],
      "text/plain": [
       "Matrix([\n",
       "[1, 2],\n",
       "[3, 4]])"
      ]
     },
     "execution_count": 2,
     "metadata": {},
     "output_type": "execute_result"
    }
   ],
   "source": [
    "# Przykład 1: dodawania macierzy w sympy\n",
    "import sympy as sp\n",
    "\n",
    "A=sp.Matrix([[1,2],[3,4]])\n",
    "B=sp.Matrix([[5,6],[7,8]])\n",
    "A # wyswietla macierz A"
   ]
  },
  {
   "cell_type": "code",
   "execution_count": 3,
   "metadata": {},
   "outputs": [
    {
     "data": {
      "text/latex": [
       "$\\displaystyle \\left[\\begin{matrix}5 & 6\\\\7 & 8\\end{matrix}\\right]$"
      ],
      "text/plain": [
       "Matrix([\n",
       "[5, 6],\n",
       "[7, 8]])"
      ]
     },
     "execution_count": 3,
     "metadata": {},
     "output_type": "execute_result"
    }
   ],
   "source": [
    "B # wyswietla macierz B"
   ]
  },
  {
   "cell_type": "code",
   "execution_count": 4,
   "metadata": {},
   "outputs": [
    {
     "data": {
      "text/plain": [
       "True"
      ]
     },
     "execution_count": 4,
     "metadata": {},
     "output_type": "execute_result"
    }
   ],
   "source": [
    "sp.Matrix([[6,8],[10,12]])==A+B # sprawdzamy poprawnosc dodawania"
   ]
  },
  {
   "cell_type": "code",
   "execution_count": 5,
   "metadata": {},
   "outputs": [
    {
     "data": {
      "text/plain": [
       "True"
      ]
     },
     "execution_count": 5,
     "metadata": {},
     "output_type": "execute_result"
    }
   ],
   "source": [
    "# Przykład 2: mnożenia macierzy przez skalar\n",
    "A=sp.Matrix([[1,2],[3,4]]) # definicja macierzy A\n",
    "\n",
    "sp.Matrix([[2,4],[6,8]])==2*A # sprawdzamy poprawnosc mnozenia przez skalar"
   ]
  },
  {
   "cell_type": "code",
   "execution_count": 6,
   "metadata": {},
   "outputs": [
    {
     "data": {
      "text/plain": [
       "True"
      ]
     },
     "execution_count": 6,
     "metadata": {},
     "output_type": "execute_result"
    }
   ],
   "source": [
    "# Przykład 3: mnożenia dwóch macierzy\n",
    "\n",
    "A=sp.Matrix([[1,2],[3,4]]) # definicja macierzy A\n",
    "B=sp.Matrix([[5,6],[7,8]]) # definicja macierzy B\n",
    "\n",
    "sp.Matrix([[19,22],[43,50]])==A*B # sprawdzamy poprawnosc mnozenia macierzy"
   ]
  },
  {
   "cell_type": "markdown",
   "metadata": {},
   "source": [
    "### Warunek konieczny do mnożenia macierzy\n",
    "\n",
    "Pamiętaj, że macierze mogą zawierać różną liczbę wierszy i kolumn.\n",
    "\n",
    "Aby móc pomnożyć dwie macierze $A_{m \\times n}$ i $B_{n \\times k}$, gdzie $A$ ma wymiary $m \\times n$ i $B$ ma wymiary $n \\times k$, liczba kolumn macierzy $A$ musi być równa liczbie wierszy macierzy $B$. W przeciwnym przypadku mnożenie macierzy nie jest możliwe. \n",
    "\n",
    "$$\n",
    "A_{m \\times n} \\cdot B_{n \\times k} = C_{m \\times k}\n",
    "$$\n",
    "\n",
    "Przykładowo, jeśli $A_{3 \\times 3}$ i $B_{3 \\times 3}$, to wynikowa macierz $C_{3 \\times 3}$.\n",
    "\n",
    "<img src=\"https://www.mscroggs.co.uk/img/full/multiply_matrices.gif\" alt=\"Matrix Multiplication GIF\" width=\"400\">"
   ]
  },
  {
   "cell_type": "markdown",
   "metadata": {},
   "source": [
    "### Mnożenie macierzy nie jest przemienne\n",
    "\n",
    "Mnożenie macierzy nie jest przemienne, tzn. w ogólności $A \\cdot B \\neq B \\cdot A$."
   ]
  },
  {
   "cell_type": "code",
   "execution_count": 7,
   "metadata": {},
   "outputs": [
    {
     "data": {
      "text/latex": [
       "$\\displaystyle \\left[\\begin{matrix}9 & 12 & 15\\\\19 & 26 & 33\\\\29 & 40 & 51\\end{matrix}\\right]$"
      ],
      "text/plain": [
       "Matrix([\n",
       "[ 9, 12, 15],\n",
       "[19, 26, 33],\n",
       "[29, 40, 51]])"
      ]
     },
     "execution_count": 7,
     "metadata": {},
     "output_type": "execute_result"
    }
   ],
   "source": [
    "# Przykład mnożenia macierzy prostokątnych\n",
    "import sympy as sp\n",
    "A=sp.Matrix([[1,2],[3,4],[5,6]]) # definicja macierzy A_{3 x 2}\n",
    "B=sp.Matrix([[1,2,3],[4,5,6]]) # definicja macierzy B_{2 x 3}\n",
    "C=sp.Matrix([[9,12,15],[19,26,33],[29,40,51]]) # definicja macierzy C_{3 x 3}\n",
    "\n",
    "A*B # mnożymy macierze A i B otrzymując macierz 3x3"
   ]
  },
  {
   "cell_type": "code",
   "execution_count": 8,
   "metadata": {},
   "outputs": [
    {
     "data": {
      "text/latex": [
       "$\\displaystyle \\left[\\begin{matrix}22 & 28\\\\49 & 64\\end{matrix}\\right]$"
      ],
      "text/plain": [
       "Matrix([\n",
       "[22, 28],\n",
       "[49, 64]])"
      ]
     },
     "execution_count": 8,
     "metadata": {},
     "output_type": "execute_result"
    }
   ],
   "source": [
    "B*A # mnożymy macierze B i A otrzymując macierz 2x2"
   ]
  },
  {
   "cell_type": "code",
   "execution_count": 9,
   "metadata": {},
   "outputs": [
    {
     "data": {
      "text/latex": [
       "$\\displaystyle \\left[\\begin{matrix}134 & 184 & 234\\\\305 & 418 & 531\\end{matrix}\\right]$"
      ],
      "text/plain": [
       "Matrix([\n",
       "[134, 184, 234],\n",
       "[305, 418, 531]])"
      ]
     },
     "execution_count": 9,
     "metadata": {},
     "output_type": "execute_result"
    }
   ],
   "source": [
    "B*C # mnożymy macierze B i C otrzymując macierz 2x3"
   ]
  },
  {
   "cell_type": "markdown",
   "metadata": {},
   "source": [
    "---\n",
    "## Zadania dla studentów\n",
    "\n",
    "1. Oblicz sumę macierzy $A=\\begin{bmatrix} 1 & 2 \\\\ 3 & 4 \\end{bmatrix}$ i $B=\\begin{bmatrix} 5 & 6 \\\\ 7 & 8 \\end{bmatrix}$.\n",
    "\n",
    "2. Oblicz iloczyn macierzy $A=\\begin{bmatrix} 4 & 2 \\\\ 12 & 4 \\end{bmatrix}$ i skalaru $k=\\frac{1}{4}$.\n",
    "\n",
    "3. Oblicz iloczyn $A\\cdot B$ oraz $B \\cdot A$ dla macierzy $A=\\begin{bmatrix} 3 & 2 \\\\ 2 & 4 \\end{bmatrix}$ i $B=\\begin{bmatrix} 4 & 1 \\\\ 6 & 4 \\end{bmatrix}$."
   ]
  },
  {
   "cell_type": "markdown",
   "metadata": {},
   "source": []
  }
 ],
 "metadata": {
  "kernelspec": {
   "display_name": "Python 3",
   "language": "python",
   "name": "python3"
  },
  "language_info": {
   "codemirror_mode": {
    "name": "ipython",
    "version": 3
   },
   "file_extension": ".py",
   "mimetype": "text/x-python",
   "name": "python",
   "nbconvert_exporter": "python",
   "pygments_lexer": "ipython3",
   "version": "3.11.9"
  }
 },
 "nbformat": 4,
 "nbformat_minor": 2
}
