{
 "cells": [
  {
   "cell_type": "markdown",
   "metadata": {},
   "source": [
    "## Definition of an Equation\n",
    "\n",
    "An **equation** in mathematics is a formal expression that states that two values or expressions are equal. It consists of two parts: the left-hand side and the right-hand side, separated by an equals sign \"=\".\n",
    "\n",
    "Solving equations involves finding the values of the variables (called unknowns) that make the equation true.\n",
    "\n",
    "\n",
    "**Example 1**\n",
    "\n",
    "Consider the equation $2x + 3 = 7$. In this case, we have one variable $x$. When solving the equation, we want to find the value of $x$ for which the left-hand side is equal to the right-hand side. The solution of the equation is the set\n",
    "\n",
    "$$\n",
    "\\{x \\in \\mathbb{R} : 2x + 3 = 7\\} = \\{x \\in \\mathbb{R} : x = 2\\}= \\{2\\}\n",
    "$$\n",
    "\n",
    "where\n",
    "\n",
    "1. **$\\{x \\in \\mathbb{R} : 2x + 3 = 7\\}$**  \n",
    "   Read as:  \n",
    "   \"The set of all $x$ belonging to real numbers for which $2x + 3 = 7$.\"\n",
    "\n",
    "2. **$\\{x \\in \\mathbb{R} : x = 2\\}$**  \n",
    "   Read as:  \n",
    "   \"The set of all $x$ belonging to real numbers for which $x = 2$.\"\n",
    "\n",
    "3. **$\\{2\\}$**  \n",
    "   Read as:  \n",
    "   \"The set containing only the number 2.\"\n",
    "\n",
    "Thus, the entire construction shows that the solution to the equation $2x + 3 = 7$ is the number $x = 2$, which we write as the singleton set $\\{2\\}$.\n",
    "\n",
    "\n",
    "**Example 2**\n",
    "\n",
    "Consider the equation $x^2 - 4 = 0$. In this case, we have one variable $x$. When solving the equation, we want to find the value of $x$ for which the left-hand side is equal to the right-hand side. The solution of the equation is the set\n",
    "\n",
    "$$\n",
    "\\{x \\in \\mathbb{R} : x^2 - 4 = 0\\}= \\{x \\in \\mathbb{R} : x^2 = 4\\} = \\{x \\in \\mathbb{R} : x = 2 \\lor x = -2\\} = \\{2, -2\\}\n",
    "$$\n",
    "\n",
    "where\n",
    "\n",
    "1. **$\\{x \\in \\mathbb{R} : x^2 - 4 = 0\\}$**  \n",
    "   Read as:  \n",
    "   \"The set of all $x$ belonging to real numbers for which $x^2 - 4 = 0$.\"\n",
    "\n",
    "2. **$\\{x \\in \\mathbb{R} : x^2 = 4\\}$**  \n",
    "   Read as:  \n",
    "   \"The set of all $x$ belonging to real numbers for which $x^2 = 4$.\"\n",
    "\n",
    "3. **$\\{x \\in \\mathbb{R} : x = 2 \\lor x = -2\\}$**  \n",
    "   Read as:  \n",
    "   \"The set of all $x$ belonging to real numbers for which $x = 2$ or $x = -2$.\"\n",
    "\n",
    "4. **$\\{2, -2\\}$**  \n",
    "   Read as:  \n",
    "   \"The set containing the numbers 2 and -2.\"\n",
    "\n",
    "Thus, the entire construction shows that the solution to the equation $x^2 - 4 = 0$ is the numbers $x = 2$ and $x = -2$, which we write as the set $\\{2, -2\\}$.\n",
    "\n",
    "\n",
    "**Example 3**\n",
    "\n",
    "Consider the line given by the equation $y = 2x + 1$. In this case, we have two variables $x$ and $y$. When solving the equation, we want to find the values of $x$ and $y$ for which the left-hand side is equal to the right-hand side. The solution of the equation is the set\n",
    "\n",
    "$$\n",
    "\\{(x, y) \\in \\mathbb{R}^2 : (x \\in \\mathbb{R}) \\land (y = 2x + 1)\\} = \\{(x, 2x + 1) : x \\in \\mathbb{R}\\}\n",
    "$$\n",
    "\n",
    "where\n",
    "\n",
    "1. **$\\{(x, y) \\in \\mathbb{R}^2 : (x \\in \\mathbb{R}) \\land (y = 2x + 1)\\}$**  \n",
    "   Read as:  \n",
    "   \"The set of all pairs $(x, y)$ belonging to the plane $\\mathbb{R}^2$, where $x$ is a real number and $y = 2x + 1$.\"\n",
    "\n",
    "2. **$\\{(x, 2x + 1) : x \\in \\mathbb{R}\\}$**  \n",
    "   Read as:  \n",
    "   \"The set of all pairs of the form $(x, 2x + 1)$, where $x$ belongs to real numbers.\"\n",
    "\n",
    "Thus, the entire construction shows that the set of points $(x, y)$ that satisfy the equation $y = 2x + 1$ can be described as the set of pairs of the form $(x, 2x + 1)$, where $x$ is a real number.\n",
    "\n",
    "\n",
    "**Example 4**\n",
    "\n",
    "Sometimes we deal with implicit equations $F(x,y)$ that cannot be written in the form $y = f(x)$ or $x = f(y)$. Solving such an equation, as above, involves finding all pairs $(x, y)$ that satisfy the equation $F(x, y)$, which we write as\n",
    "\n",
    "$$\n",
    "\\{(x, y) \\in \\mathbb{R}^2 : F(x, y) = 0\\}\n",
    "$$\n",
    "\n",
    "The equation of a circle $x^2 + y^2 = 1$ is an example of an implicit equation. Let's find its solution. Consider the following equalities\n",
    "\n",
    "$$\n",
    "\\begin{cases}\n",
    "y_1=+\\sqrt{1-x^2}\\quad \\text{where } x\\in[-1,1]\\\\\n",
    "y_2=-\\sqrt{1-x^2}\\quad \\text{where } x\\in[-1,1]\\\\\n",
    "\\end{cases}\n",
    "$$\n",
    "\n",
    "We see that $y_1^2 = 1 - x^2$ and $y_2^2 = 1 - x^2$. This means that $y_1$ and $y_2$ satisfy the equation $x^2 + y^2 = 1$. Hence, the solution to the equation $x^2 + y^2 = 1$ is the set\n",
    "\n",
    "$$\n",
    "\\{(x, y) \\in \\mathbb{R}^2 : x^2 + y^2 = 1\\} = \\{(x, \\sqrt{1-x^2}) : x \\in [-1, 1]\\}\\cup\\{(x,-\\sqrt{1-x^2}) : x \\in [-1, 1]\\}\n",
    "$$\n",
    "\n",
    "1. **$\\{(x, y) \\in \\mathbb{R}^2 : x^2 + y^2 = 1\\}$**  \n",
    "   Read as:  \n",
    "   \"The set of all pairs $(x, y)$ belonging to the plane $\\mathbb{R}^2$, for which $x^2 + y^2 = 1$. This is the equation of a circle with radius 1 and center at $(0, 0)$.\"\n",
    "\n",
    "2. **$\\{(x, \\sqrt{1 - x^2}) : x \\in [-1, 1]\\}$**  \n",
    "   Read as:  \n",
    "   \"The set of all pairs of the form $(x, \\sqrt{1 - x^2})$, where $x$ belongs to the interval $[-1, 1]$. This is the upper semicircle.\"\n",
    "\n",
    "3. **$\\{(x, -\\sqrt{1 - x^2}) : x \\in [-1, 1]\\}$**  \n",
    "   Read as:  \n",
    "   \"The set of all pairs of the form $(x, -\\sqrt{1 - x^2})$, where $x$ belongs to the interval $[-1, 1]$. This is the lower semicircle.\"\n",
    "\n",
    "Thus, the entire construction shows that the set of points $(x, y)$ that satisfy the equation of the circle $x^2 + y^2 = 1$ can be described as the union of the sets: the upper semicircle $\\{(x, \\sqrt{1 - x^2})\\}$ and the lower semicircle $\\{(x, -\\sqrt{1 - x^2})\\}$, where $x$ belongs to the interval $[-1, 1]$.\n",
    "\n",
    "# Now we will see how we can manipulate equations in Python"
   ]
  },
  {
   "cell_type": "code",
   "execution_count": null,
   "metadata": {},
   "outputs": [],
   "source": [
    "# If we refer to an undefined variable in a function, Python will return an error\n",
    "z"
   ]
  },
  {
   "cell_type": "code",
   "execution_count": null,
   "metadata": {},
   "outputs": [],
   "source": [
    "# We can define the variable z\n",
    "z = 10 # assign the value 10 to variable z\n",
    "z      # display the value of variable z"
   ]
  },
  {
   "cell_type": "code",
   "execution_count": null,
   "metadata": {},
   "outputs": [],
   "source": [
    "# We can add 1 to z\n",
    "z = z + 1 # assign the value z+1 to variable z\n",
    "z         # display the value of variable z"
   ]
  },
  {
   "cell_type": "markdown",
   "metadata": {},
   "source": [
    "The problem with this approach is that it does not allow us to manipulate symbols! The above definition assigns a numerical value to the symbol rather than a symbolic one. In Python, we have the `sympy` library available, which allows us to manipulate symbols.\n",
    "\n",
    "Below, we will show some examples of how we can manipulate symbols and equations in Python."
   ]
  },
  {
   "cell_type": "code",
   "execution_count": 4,
   "metadata": {},
   "outputs": [],
   "source": [
    "# First, we import the sympy library (Symbolic Python)\n",
    "import sympy as sp\n",
    "\n",
    "# Define variables x and y as symbols\n",
    "x, y = sp.symbols('x y')"
   ]
  },
  {
   "cell_type": "code",
   "execution_count": null,
   "metadata": {},
   "outputs": [],
   "source": [
    "x # x is now a symbol"
   ]
  },
  {
   "cell_type": "code",
   "execution_count": null,
   "metadata": {},
   "outputs": [],
   "source": [
    "x + y # Python returns x + y as an expression, not a numerical value"
   ]
  },
  {
   "cell_type": "code",
   "execution_count": null,
   "metadata": {},
   "outputs": [],
   "source": [
    "# We can perform more complex operations on variables\n",
    "expr1 = (x + y)**2 # assign the expression (x+y)^2 to variable expr1\n",
    "expr1            # display the value of variable expr1"
   ]
  },
  {
   "cell_type": "code",
   "execution_count": null,
   "metadata": {},
   "outputs": [],
   "source": [
    "# We can expand the above expression\n",
    "sp.expand(expr1) # the expand command expands the expression"
   ]
  },
  {
   "cell_type": "code",
   "execution_count": null,
   "metadata": {},
   "outputs": [],
   "source": [
    "# More complex expression\n",
    "expr2 = (x + y)**5 # assign the expression (x+y)^5 to variable expr2\n",
    "expr2          # display the value of variable expr2"
   ]
  },
  {
   "cell_type": "code",
   "execution_count": null,
   "metadata": {},
   "outputs": [],
   "source": [
    "expr2_expanded = sp.expand(expr2) # expand the expression\n",
    "expr2_expanded                    # display the value of variable expr2_expanded"
   ]
  },
  {
   "cell_type": "code",
   "execution_count": null,
   "metadata": {},
   "outputs": [],
   "source": [
    "# We can substitute specific values into variables, e.g., x=2\n",
    "expr2_expanded.subs(x, 2)  # subs(x, 2) substitutes x=2 into the expression"
   ]
  },
  {
   "cell_type": "code",
   "execution_count": null,
   "metadata": {},
   "outputs": [],
   "source": [
    "# In sympy, we can define equations!\n",
    "eq1 = sp.Eq(x**2, 1)\n",
    "eq1"
   ]
  },
  {
   "cell_type": "code",
   "execution_count": null,
   "metadata": {},
   "outputs": [],
   "source": [
    "# We can ask for solutions to the equation\n",
    "sol_eq1 = sp.solve(eq1)\n",
    "sol_eq1"
   ]
  },
  {
   "cell_type": "code",
   "execution_count": null,
   "metadata": {},
   "outputs": [],
   "source": [
    "# Check if the first solution satisfies the equation\n",
    "eq1.subs(x, sol_eq1[0]) # substitute the solution into the equation and check if it is satisfied"
   ]
  },
  {
   "cell_type": "code",
   "execution_count": null,
   "metadata": {},
   "outputs": [],
   "source": [
    "# Check if the second solution satisfies the equation\n",
    "eq1.subs(x, sol_eq1[1]) # substitute the solution into the equation and check if it is satisfied"
   ]
  },
  {
   "cell_type": "code",
   "execution_count": null,
   "metadata": {},
   "outputs": [],
   "source": [
    "# Another example\n",
    "eq2 = sp.Eq(x**2 - 4*x + 3, 0)\n",
    "eq2"
   ]
  },
  {
   "cell_type": "code",
   "execution_count": null,
   "metadata": {},
   "outputs": [],
   "source": [
    "# Solutions of the equation\n",
    "sol_eq2 = sp.solve(eq2)\n",
    "sol_eq2"
   ]
  },
  {
   "cell_type": "code",
   "execution_count": null,
   "metadata": {},
   "outputs": [],
   "source": [
    "# Check the solutions\n",
    "eq2.subs(x, sol_eq2[0]) and eq2.subs(x, sol_eq2[1])"
   ]
  },
  {
   "cell_type": "code",
   "execution_count": null,
   "metadata": {},
   "outputs": [],
   "source": [
    "# Equation with two unknowns\n",
    "eq3 = sp.Eq(x**2 + y**2, 1)\n",
    "eq3"
   ]
  },
  {
   "cell_type": "code",
   "execution_count": null,
   "metadata": {},
   "outputs": [],
   "source": [
    "# Solutions of a quadratic equation with two unknowns\n",
    "sol_eq3 = sp.solve(eq3, y) # solve the equation for y as a function of x\n",
    "sol_eq3"
   ]
  },
  {
   "cell_type": "code",
   "execution_count": null,
   "metadata": {},
   "outputs": [],
   "source": [
    "# We can display the solutions of the equation in a more readable way\n",
    "sol_eq3[0]"
   ]
  },
  {
   "cell_type": "code",
   "execution_count": null,
   "metadata": {},
   "outputs": [],
   "source": [
    "sol_eq3[1]"
   ]
  },
  {
   "cell_type": "code",
   "execution_count": null,
   "metadata": {},
   "outputs": [],
   "source": [
    "# Check if the solutions satisfy the equation\n",
    "eq3.subs(y, sol_eq3[0]) and eq3.subs(y, sol_eq3[1])"
   ]
  },
  {
   "cell_type": "code",
   "execution_count": 24,
   "metadata": {},
   "outputs": [],
   "source": [
    "# Set the display mode for plots\n",
    "import matplotlib.pyplot as plt\n",
    "plt.rcParams['figure.figsize'] = [3, 3] # set plot size and aspect_ratio=1"
   ]
  },
  {
   "cell_type": "code",
   "execution_count": null,
   "metadata": {},
   "outputs": [],
   "source": [
    "# We can also plot the solutions of the equation on the plane aspect_ratio=1\n",
    "sp.plot_implicit(eq3, (x, -2, 2), (y, -2, 2));"
   ]
  },
  {
   "cell_type": "code",
   "execution_count": null,
   "metadata": {},
   "outputs": [],
   "source": [
    "ellipse = sp.Eq(x**2/4 + y**2, 1)\n",
    "ellipse"
   ]
  },
  {
   "cell_type": "code",
   "execution_count": null,
   "metadata": {},
   "outputs": [],
   "source": [
    "# We can also plot the solutions of the equation on the plane aspect_ratio=1\n",
    "sp.plot_implicit(ellipse, (x, -3, 3), (y, -3, 3));"
   ]
  },
  {
   "cell_type": "code",
   "execution_count": null,
   "metadata": {},
   "outputs": [],
   "source": [
    "# We can also plot several equations on one plot\n",
    "line = sp.Eq(y, 2*x - 1)\n",
    "circle = sp.Eq(x**2 + y**2, 1)\n",
    "\n",
    "# Plotting the circle and ellipse on one plot\n",
    "p1 = sp.plot_implicit(line, (x, -2, 2), (y, -2, 2), show=False)\n",
    "p2 = sp.plot_implicit(circle, (x, -2, 2), (y, -2, 2), show=False)\n",
    "\n",
    "# Add the plots together\n",
    "p1.extend(p2) # \"attach\"\n",
    "p1.show()"
   ]
  },
  {
   "cell_type": "code",
   "execution_count": null,
   "metadata": {},
   "outputs": [],
   "source": [
    "# Let's see where the circle and the line intersect\n",
    "intersection_points = sp.solve([line, circle])\n",
    "intersection_points"
   ]
  },
  {
   "cell_type": "code",
   "execution_count": null,
   "metadata": {},
   "outputs": [],
   "source": [
    "# How to check if two equations are equivalent?\n",
    "\n",
    "# Let's write the same in a different form\n",
    "r1 = sp.Eq(x + y, 1)\n",
    "r1"
   ]
  },
  {
   "cell_type": "code",
   "execution_count": null,
   "metadata": {},
   "outputs": [],
   "source": [
    "r2 = sp.Eq(2*x - 2, -2*y)\n",
    "r2"
   ]
  },
  {
   "cell_type": "code",
   "execution_count": null,
   "metadata": {},
   "outputs": [],
   "source": [
    "# We cannot directly compare two equations, but we can check if they are equivalent\n",
    "r1 == r2"
   ]
  },
  {
   "cell_type": "code",
   "execution_count": null,
   "metadata": {},
   "outputs": [],
   "source": [
    "# But if we make an expression\n",
    "ratio = (r1.lhs - r1.rhs) / (r2.lhs - r2.rhs)\n",
    "ratio"
   ]
  },
  {
   "cell_type": "code",
   "execution_count": null,
   "metadata": {},
   "outputs": [],
   "source": [
    "# simplify the expression\n",
    "sp.simplify(ratio)"
   ]
  }
 ],
 "metadata": {
  "kernelspec": {
   "display_name": "Python 3",
   "language": "python",
   "name": "python3"
  },
  "language_info": {
   "codemirror_mode": {
    "name": "ipython",
    "version": 3
   },
   "file_extension": ".py",
   "mimetype": "text/x-python",
   "name": "python",
   "nbconvert_exporter": "python",
   "pygments_lexer": "ipython3",
   "version": "3.11.9"
  }
 },
 "nbformat": 4,
 "nbformat_minor": 4
}
