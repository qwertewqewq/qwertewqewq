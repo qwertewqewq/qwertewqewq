{
 "cells": [
  {
   "cell_type": "markdown",
   "metadata": {},
   "source": [
    "# Wzory Cramera - Przykłady dla układów 2x2, 3x3 i 4x4\n",
    "\n",
    "Wzory Cramera są używane tylko wtedy gdy liczba równań jest równa liczbie niewiadomych. Inaczej mówiąc, macierz współczynników musi być macierzą kwadratową. \n",
    "\n",
    "**Wzory te są używane tylko wtedy**, gdy **wyznacznik** macierzy współczynników jest **różny od zera**. W przeciwnym razie układ równań jest sprzeczny lub nieoznaczony.\n",
    "\n",
    "## Układ równań 2x2\n",
    "\n",
    "Rozważmy układ dwóch równań z dwiema niewiadomymi:\n",
    "\n",
    "$$\n",
    "\\begin{cases}\n",
    "a_{11}x_1 + a_{12}x_2 = b_1 \\\\\n",
    "a_{21}x_1 + a_{22}x_2 = b_2\n",
    "\\end{cases}\n",
    "$$\n",
    "\n",
    "Wzory Cramera dla niewiadomych $ x_1 $ i $ x_2 $ są następujące:\n",
    "\n",
    "$$\n",
    "x_1 = \\frac{\\det(A_1)}{\\det(A)} \\quad \\text{oraz} \\quad x_2 = \\frac{\\det(A_2)}{\\det(A)}\n",
    "$$\n",
    "\n",
    "Gdzie:\n",
    "\n",
    "$$\n",
    "\\det(A) = \n",
    "\\begin{vmatrix}\n",
    "a_{11} & a_{12} \\\\\n",
    "a_{21} & a_{22}\n",
    "\\end{vmatrix} \n",
    "= a_{11}a_{22} - a_{12}a_{21}\n",
    "$$\n",
    "\n",
    "$$\n",
    "\\det(A_1) = \n",
    "\\begin{vmatrix}\n",
    "b_1 & a_{12} \\\\\n",
    "b_2 & a_{22}\n",
    "\\end{vmatrix} \n",
    "= b_1a_{22} - a_{12}b_2\n",
    "$$\n",
    "\n",
    "$$\n",
    "\\det(A_2) = \n",
    "\\begin{vmatrix}\n",
    "a_{11} & b_1 \\\\\n",
    "a_{21} & b_2\n",
    "\\end{vmatrix} \n",
    "= a_{11}b_2 - b_1a_{21}\n",
    "$$\n",
    "\n",
    "## Układ równań 3x3\n",
    "\n",
    "Rozważmy układ trzech równań z trzema niewiadomymi:\n",
    "\n",
    "$$\n",
    "\\begin{cases}\n",
    "a_{11}x_1 + a_{12}x_2 + a_{13}x_3 = b_1 \\\\\n",
    "a_{21}x_1 + a_{22}x_2 + a_{23}x_3 = b_2 \\\\\n",
    "a_{31}x_1 + a_{32}x_2 + a_{33}x_3 = b_3\n",
    "\\end{cases}\n",
    "$$\n",
    "\n",
    "Wzory Cramera dla $ x_1 $, $ x_2 $ i $ x_3 $:\n",
    "\n",
    "$$\n",
    "x_1 = \\frac{\\det(A_1)}{\\det(A)} \\quad x_2 = \\frac{\\det(A_2)}{\\det(A)} \\quad x_3 = \\frac{\\det(A_3)}{\\det(A)}\n",
    "$$\n",
    "\n",
    "Gdzie:\n",
    "\n",
    "$$\n",
    "\\det(A) = \n",
    "\\begin{vmatrix}\n",
    "a_{11} & a_{12} & a_{13} \\\\\n",
    "a_{21} & a_{22} & a_{23} \\\\\n",
    "a_{31} & a_{32} & a_{33}\n",
    "\\end{vmatrix}\n",
    "$$\n",
    "\n",
    "$$\n",
    "\\det(A_1) = \n",
    "\\begin{vmatrix}\n",
    "b_1 & a_{12} & a_{13} \\\\\n",
    "b_2 & a_{22} & a_{23} \\\\\n",
    "b_3 & a_{32} & a_{33}\n",
    "\\end{vmatrix}\n",
    "$$\n",
    "\n",
    "$$\n",
    "\\det(A_2) = \n",
    "\\begin{vmatrix}\n",
    "a_{11} & b_1 & a_{13} \\\\\n",
    "a_{21} & b_2 & a_{23} \\\\\n",
    "a_{31} & b_3 & a_{33}\n",
    "\\end{vmatrix}\n",
    "$$\n",
    "\n",
    "$$\n",
    "\\det(A_3) = \n",
    "\\begin{vmatrix}\n",
    "a_{11} & a_{12} & b_1 \\\\\n",
    "a_{21} & a_{22} & b_2 \\\\\n",
    "a_{31} & a_{32} & b_3\n",
    "\\end{vmatrix}\n",
    "$$\n",
    "\n",
    "## Układ równań 4x4\n",
    "\n",
    "Rozważmy układ czterech równań z czterema niewiadomymi:\n",
    "\n",
    "$$\n",
    "\\begin{cases}\n",
    "a_{11}x_1 + a_{12}x_2 + a_{13}x_3 + a_{14}x_4 = b_1 \\\\\n",
    "a_{21}x_1 + a_{22}x_2 + a_{23}x_3 + a_{24}x_4 = b_2 \\\\\n",
    "a_{31}x_1 + a_{32}x_2 + a_{33}x_3 + a_{34}x_4 = b_3 \\\\\n",
    "a_{41}x_1 + a_{42}x_2 + a_{43}x_3 + a_{44}x_4 = b_4\n",
    "\\end{cases}\n",
    "$$\n",
    "\n",
    "Wzory Cramera dla $ x_1 $, $ x_2 $, $ x_3 $ i $ x_4 $:\n",
    "\n",
    "$$\n",
    "x_1 = \\frac{\\det(A_1)}{\\det(A)} \\quad x_2 = \\frac{\\det(A_2)}{\\det(A)} \\quad x_3 = \\frac{\\det(A_3)}{\\det(A)} \\quad x_4 = \\frac{\\det(A_4)}{\\det(A)}\n",
    "$$\n",
    "\n",
    "Gdzie:\n",
    "\n",
    "$$\n",
    "\\det(A) = \n",
    "\\begin{vmatrix}\n",
    "a_{11} & a_{12} & a_{13} & a_{14} \\\\\n",
    "a_{21} & a_{22} & a_{23} & a_{24} \\\\\n",
    "a_{31} & a_{32} & a_{33} & a_{34} \\\\\n",
    "a_{41} & a_{42} & a_{43} & a_{44}\n",
    "\\end{vmatrix}\n",
    "$$\n",
    "\n",
    "$$\n",
    "\\det(A_1) = \n",
    "\\begin{vmatrix}\n",
    "b_1 & a_{12} & a_{13} & a_{14} \\\\\n",
    "b_2 & a_{22} & a_{23} & a_{24} \\\\\n",
    "b_3 & a_{32} & a_{33} & a_{34} \\\\\n",
    "b_4 & a_{42} & a_{43} & a_{44}\n",
    "\\end{vmatrix}\n",
    "$$\n",
    "\n",
    "$$\n",
    "\\det(A_2) = \n",
    "\\begin{vmatrix}\n",
    "a_{11} & b_1 & a_{13} & a_{14} \\\\\n",
    "a_{21} & b_2 & a_{23} & a_{24} \\\\\n",
    "a_{31} & b_3 & a_{33} & a_{34} \\\\\n",
    "a_{41} & b_4 & a_{43} & a_{44}\n",
    "\\end{vmatrix}\n",
    "$$\n",
    "\n",
    "$$\n",
    "\\det(A_3) = \n",
    "\\begin{vmatrix}\n",
    "a_{11} & a_{12} & b_1 & a_{14} \\\\\n",
    "a_{21} & a_{22} & b_2 & a_{24} \\\\\n",
    "a_{31} & a_{32} & b_3 & a_{34} \\\\\n",
    "a_{41} & a_{42} & b_4 & a_{44}\n",
    "\\end{vmatrix}\n",
    "$$\n",
    "\n",
    "$$\n",
    "\\det(A_4) = \n",
    "\\begin{vmatrix}\n",
    "a_{11} & a_{12} & a_{13} & b_1 \\\\\n",
    "a_{21} & a_{22} & a_{23} & b_2 \\\\\n",
    "a_{31} & a_{32} & a_{33} & b_3 \\\\\n",
    "a_{41} & a_{42} & a_{43} & b_4\n",
    "\\end{vmatrix}\n",
    "$$\n"
   ]
  },
  {
   "cell_type": "markdown",
   "metadata": {},
   "source": [
    "## Przykład"
   ]
  },
  {
   "cell_type": "code",
   "execution_count": 1,
   "metadata": {},
   "outputs": [],
   "source": [
    "import sympy as sp\n",
    "\n",
    "# Definiowanie symboli\n",
    "x, y, z = sp.symbols('x y z')\n",
    "\n",
    "# Definicja układu równań\n",
    "eq1 = sp.Eq(2*x + 3*y + z, 1)\n",
    "eq2 = sp.Eq(3*x + 2*y + 2*z, 2) \n",
    "eq3 = sp.Eq(x + y + z, 3)\n",
    "\n",
    "# Macierz odpowiedniego układu równań\n",
    "A = sp.Matrix([[2, 3, 1], [3, 2, 2], [1, 1, 1]])\n",
    "# wektor wyrazów wolnych\n",
    "b = sp.Matrix([1, 2, 3])"
   ]
  },
  {
   "cell_type": "code",
   "execution_count": 2,
   "metadata": {},
   "outputs": [
    {
     "data": {
      "text/latex": [
       "$\\displaystyle \\left[\\begin{matrix}2 & 3 & 1\\\\3 & 2 & 2\\\\1 & 1 & 1\\end{matrix}\\right]$"
      ],
      "text/plain": [
       "Matrix([\n",
       "[2, 3, 1],\n",
       "[3, 2, 2],\n",
       "[1, 1, 1]])"
      ]
     },
     "execution_count": 2,
     "metadata": {},
     "output_type": "execute_result"
    }
   ],
   "source": [
    "A"
   ]
  },
  {
   "cell_type": "code",
   "execution_count": 3,
   "metadata": {},
   "outputs": [
    {
     "data": {
      "text/latex": [
       "$\\displaystyle \\left[\\begin{matrix}1\\\\2\\\\3\\end{matrix}\\right]$"
      ],
      "text/plain": [
       "Matrix([\n",
       "[1],\n",
       "[2],\n",
       "[3]])"
      ]
     },
     "execution_count": 3,
     "metadata": {},
     "output_type": "execute_result"
    }
   ],
   "source": [
    "b"
   ]
  },
  {
   "cell_type": "code",
   "execution_count": 4,
   "metadata": {},
   "outputs": [
    {
     "data": {
      "text/latex": [
       "$\\displaystyle \\left[\\begin{matrix}1 & 3 & 1\\\\2 & 2 & 2\\\\3 & 1 & 1\\end{matrix}\\right]$"
      ],
      "text/plain": [
       "Matrix([\n",
       "[1, 3, 1],\n",
       "[2, 2, 2],\n",
       "[3, 1, 1]])"
      ]
     },
     "execution_count": 4,
     "metadata": {},
     "output_type": "execute_result"
    }
   ],
   "source": [
    "# Zdefiniujmy macierz A_1\n",
    "A_1 = A.copy() # Skopiuj macierz A\n",
    "A_1[:, 0] = b # Zamień pierwszą kolumnę macierzy A na wektor b\n",
    "A_1 # sprawdzamy czy zamiana się udała"
   ]
  },
  {
   "cell_type": "code",
   "execution_count": 5,
   "metadata": {},
   "outputs": [
    {
     "data": {
      "text/latex": [
       "$\\displaystyle -4$"
      ],
      "text/plain": [
       "-4"
      ]
     },
     "execution_count": 5,
     "metadata": {},
     "output_type": "execute_result"
    }
   ],
   "source": [
    "\n",
    "det_A_1 = A_1.det() # Oblicz wyznacznik macierzy A_1\n",
    "sol_x = det_A_1 / A.det() # Oblicz x_1\n",
    "sol_x # obliczona wartość x_1"
   ]
  },
  {
   "cell_type": "code",
   "execution_count": 6,
   "metadata": {},
   "outputs": [
    {
     "data": {
      "text/latex": [
       "$\\displaystyle \\left[\\begin{matrix}2 & 1 & 1\\\\3 & 2 & 2\\\\1 & 3 & 1\\end{matrix}\\right]$"
      ],
      "text/plain": [
       "Matrix([\n",
       "[2, 1, 1],\n",
       "[3, 2, 2],\n",
       "[1, 3, 1]])"
      ]
     },
     "execution_count": 6,
     "metadata": {},
     "output_type": "execute_result"
    }
   ],
   "source": [
    "# analogicznie dla y\n",
    "A_2 = A.copy()\n",
    "A_2[:, 1] = b\n",
    "A_2 # sprawdzamy czy zamiana się udała"
   ]
  },
  {
   "cell_type": "code",
   "execution_count": 7,
   "metadata": {},
   "outputs": [
    {
     "data": {
      "text/latex": [
       "$\\displaystyle 1$"
      ],
      "text/plain": [
       "1"
      ]
     },
     "execution_count": 7,
     "metadata": {},
     "output_type": "execute_result"
    }
   ],
   "source": [
    "det_A_2 = A_2.det()\n",
    "sol_y = det_A_2 / A.det()\n",
    "sol_y"
   ]
  },
  {
   "cell_type": "code",
   "execution_count": 8,
   "metadata": {},
   "outputs": [
    {
     "data": {
      "text/latex": [
       "$\\displaystyle 6$"
      ],
      "text/plain": [
       "6"
      ]
     },
     "execution_count": 8,
     "metadata": {},
     "output_type": "execute_result"
    }
   ],
   "source": [
    "# ostatecznie dla z\n",
    "A_3 = A.copy()\n",
    "A_3[:, 2] = b\n",
    "det_A_3 = A_3.det()\n",
    "sol_z = det_A_3 / A.det()\n",
    "sol_z"
   ]
  },
  {
   "cell_type": "code",
   "execution_count": 9,
   "metadata": {},
   "outputs": [
    {
     "data": {
      "text/plain": [
       "{x: -4, y: 1, z: 6}"
      ]
     },
     "execution_count": 9,
     "metadata": {},
     "output_type": "execute_result"
    }
   ],
   "source": [
    "# Rozwiązanie układu równań\n",
    "sp.solve((eq1, eq2, eq3), (x, y, z))"
   ]
  },
  {
   "cell_type": "markdown",
   "metadata": {},
   "source": [
    "---\n",
    "\n",
    "## Zadania dla studentów\n",
    "\n",
    "1. Rozwiąż układ równań:\n",
    "   $$\n",
    "   \\begin{cases}\n",
    "   2x_1 - 3x_2 = 7 \\\\\n",
    "   3x_1 + 5x_2 = 2\n",
    "   \\end{cases}\n",
    "   $$\n",
    "\n",
    "2. Rozwiąż układ równań:\n",
    "   $$\n",
    "   \\begin{cases}\n",
    "   2x + y - z = 1 \\\\\n",
    "   x - y + 2z = 4 \\\\\n",
    "   3x - 2z = -1\n",
    "   \\end{cases}\n",
    "   $$\n",
    "\n",
    "3. Rozwiąż układ równań:\n",
    "   $$\n",
    "   \\begin{cases}\n",
    "   x + y + z - t = 2 \\\\\n",
    "   x - z + 2t = 6 \\\\\n",
    "   2x - 3y + t = 4 \\\\\n",
    "   3x + y + 3z - 4t = -2\n",
    "   \\end{cases}\n",
    "   $$\n",
    "\n",
    "4. Dlaczego nie można rozwiązać układ równań poniżej za pomocą wzorów Cramera?\n",
    "$$\n",
    "\\begin{cases}\n",
    "x_1 + 2x_2 + 3x_3 = 3 \\\\\n",
    "4x_1 + 5x_2 + 6x_3 = 2 \\\\\n",
    "7x_1 + 8x_2 + 9x_3 = 1\n",
    "\\end{cases}\n",
    "$$"
   ]
  },
  {
   "cell_type": "markdown",
   "metadata": {},
   "source": []
  }
 ],
 "metadata": {
  "kernelspec": {
   "display_name": ".venv",
   "language": "python",
   "name": "python3"
  },
  "language_info": {
   "codemirror_mode": {
    "name": "ipython",
    "version": 3
   },
   "file_extension": ".py",
   "mimetype": "text/x-python",
   "name": "python",
   "nbconvert_exporter": "python",
   "pygments_lexer": "ipython3",
   "version": "3.11.9"
  }
 },
 "nbformat": 4,
 "nbformat_minor": 2
}
