{
 "cells": [
  {
   "cell_type": "markdown",
   "metadata": {},
   "source": [
    "## Metoda eliminacji Gaussa\n",
    "\n",
    "Rozwiązanie układu równań liniowych metodą eliminacji Gaussa polega na przekształceniu macierzy współczynników układu równań na macierz trójkątną górną, a następnie na rozwiązaniu układu równań za pomocą metody podstawiania wstecz. \n",
    "\n",
    "Jest to jedna z najbardziej podstawowych metod rozwiązywania układów równań liniowych, wychodząca poza sytuacje gdzie liczba niewiadomych jest różna od liczby równań."
   ]
  },
  {
   "cell_type": "code",
   "execution_count": 1,
   "metadata": {},
   "outputs": [
    {
     "data": {
      "text/markdown": [
       "**Początkowe równania:**"
      ],
      "text/plain": [
       "<IPython.core.display.Markdown object>"
      ]
     },
     "metadata": {},
     "output_type": "display_data"
    },
    {
     "data": {
      "text/markdown": [
       "Układ równań:"
      ],
      "text/plain": [
       "<IPython.core.display.Markdown object>"
      ]
     },
     "metadata": {},
     "output_type": "display_data"
    },
    {
     "data": {
      "text/markdown": [
       "$$\\begin{aligned} 1 x_{1} + 2 x_{2} + 3 x_{3} = 10 \\\\ 4 x_{1} + 5 x_{2} + 6 x_{3} = 11 \\\\ 7 x_{1} + 8 x_{2} + 12 x_{3} = 18 \\end{aligned}$$"
      ],
      "text/plain": [
       "<IPython.core.display.Markdown object>"
      ]
     },
     "metadata": {},
     "output_type": "display_data"
    }
   ],
   "source": [
    "from sympy import Matrix, symbols, Eq, latex\n",
    "from IPython.display import display, Markdown\n",
    "import sympy as sp\n",
    "\n",
    "class SymbolicMatrix:\n",
    "    def __init__(self, matrix, column_labels=None, free_terms=None, display_mode=\"table\"):\n",
    "        self.matrix = Matrix(matrix)\n",
    "        self.operations = []\n",
    "        self.display_mode = display_mode\n",
    "        \n",
    "        if column_labels:\n",
    "            if len(column_labels) != self.matrix.cols:\n",
    "                raise ValueError(\"Liczba etykiet kolumn musi być równa liczbie kolumn w macierzy.\")\n",
    "            self.column_labels = column_labels\n",
    "        else:\n",
    "            self.column_labels = [f\"x{i+1}\" for i in range(self.matrix.cols)]\n",
    "        \n",
    "        if free_terms:\n",
    "            if len(free_terms) != self.matrix.rows:\n",
    "                raise ValueError(\"Liczba wyrazów wolnych musi być równa liczbie wierszy w macierzy.\")\n",
    "            self.free_terms = free_terms\n",
    "        else:\n",
    "            self.free_terms = [0 for _ in range(self.matrix.rows)]\n",
    "        \n",
    "        display(Markdown(\"**Początkowe równania:**\"))\n",
    "        self.display_matrix()\n",
    "\n",
    "    def set_display_mode(self, mode):\n",
    "        if mode not in [\"table\", \"equations\"]:\n",
    "            raise ValueError(\"Tryb wyświetlania musi być 'table' lub 'equations'.\")\n",
    "        self.display_mode = mode\n",
    "\n",
    "    def display_matrix(self):\n",
    "        if self.display_mode == \"table\":\n",
    "            self._display_table()\n",
    "        elif self.display_mode == \"equations\":\n",
    "            self._display_equations()\n",
    "\n",
    "    def _display_table(self):\n",
    "        matrix_with_free_terms = self.matrix.row_join(Matrix(self.free_terms))\n",
    "        headers = self.column_labels + [\"Wyraz wolny\"]\n",
    "        display(Markdown(self._matrix_to_markdown(matrix_with_free_terms, headers)))\n",
    "\n",
    "    def _matrix_to_markdown(self, matrix, headers):\n",
    "        markdown_str = \"| \" + \" | \".join(headers) + \" |\\n\"\n",
    "        markdown_str += \"| \" + \" | \".join([\"---\"] * len(headers)) + \" |\\n\"\n",
    "        for i in range(matrix.rows):\n",
    "            row = [str(matrix[i, j]) for j in range(matrix.cols)]\n",
    "            markdown_str += \"| \" + \" | \".join(row) + \" |\\n\"\n",
    "        return markdown_str\n",
    "\n",
    "    def _display_equations(self):\n",
    "        equations = []\n",
    "        for i in range(self.matrix.rows):\n",
    "            terms = []\n",
    "            for j in range(self.matrix.cols):\n",
    "                coef = self.matrix[i, j]\n",
    "                var = symbols(self.column_labels[j])\n",
    "                \n",
    "                # Sprawdzamy, czy współczynnik jest dodatni, ujemny czy zero\n",
    "                if coef > 0:\n",
    "                    if j == 0:\n",
    "                        terms.append(f\"{latex(coef)} {latex(var)}\")\n",
    "                    else:\n",
    "                        terms.append(f\"+ {latex(coef)} {latex(var)}\")\n",
    "                elif coef < 0:\n",
    "                    terms.append(f\"- {latex(abs(coef))} {latex(var)}\")\n",
    "                elif coef == 0:\n",
    "                    if j == 0:\n",
    "                        terms.append(f\"0 {latex(var)}\")\n",
    "                    else:\n",
    "                        terms.append(f\"+0 {latex(var)}\")\n",
    "            \n",
    "            lhs = \" \".join(terms)\n",
    "            rhs = latex(self.free_terms[i])\n",
    "\n",
    "            equation = f\"{lhs} = {rhs}\"\n",
    "            equations.append(equation)\n",
    "        \n",
    "        display(Markdown(\"Układ równań:\"))\n",
    "        display(Markdown(f\"$$\\\\begin{{aligned}} {self._equations_to_latex(equations)} \\\\end{{aligned}}$$\"))\n",
    "    \n",
    "    def _equations_to_latex(self, equations):\n",
    "        return \" \\\\\\\\ \".join(equations)\n",
    "\n",
    "    def add_row(self, target_row, source_row, coefficient):\n",
    "        target_idx = self._validate_row_number(target_row)\n",
    "        source_idx = self._validate_row_number(source_row)\n",
    "        \n",
    "        # Operacja na macierzy\n",
    "        self.matrix.row_op(target_idx, lambda v, j: v + coefficient * self.matrix[source_idx, j])\n",
    "        \n",
    "        # Operacja na wyrazach wolnych\n",
    "        self.free_terms[target_idx] += coefficient * self.free_terms[source_idx]\n",
    "        \n",
    "        operation_str = f\"w{target_row} = w{target_row} + {coefficient}*w{source_row}\"\n",
    "        self.operations.append(operation_str)\n",
    "        display(Markdown(f\"**Operacja:** {operation_str}\"))\n",
    "        self.display_matrix()\n",
    "\n",
    "    def multiply_row(self, row, coefficient):\n",
    "        row_idx = self._validate_row_number(row)\n",
    "        \n",
    "        # Operacja na macierzy\n",
    "        self.matrix.row_op(row_idx, lambda v, _: coefficient * v)\n",
    "        \n",
    "        # Operacja na wyrazach wolnych\n",
    "        self.free_terms[row_idx] *= coefficient\n",
    "        \n",
    "        operation_str = f\"w{row} = {coefficient}*w{row}\"\n",
    "        self.operations.append(operation_str)\n",
    "        display(Markdown(f\"**Operacja:** {operation_str}\"))\n",
    "        self.display_matrix()\n",
    "\n",
    "    def swap_rows(self, row1, row2):\n",
    "        row1_idx = self._validate_row_number(row1)\n",
    "        row2_idx = self._validate_row_number(row2)\n",
    "        \n",
    "        self.matrix.row_swap(row1_idx, row2_idx)\n",
    "        self.free_terms[row1_idx], self.free_terms[row2_idx] = self.free_terms[row2_idx], self.free_terms[row1_idx]\n",
    "        \n",
    "        operation_str = f\"Zamiana w{row1} <-> w{row2}\"\n",
    "        self.operations.append(operation_str)\n",
    "        display(Markdown(f\"**Operacja:** {operation_str}\"))\n",
    "        self.display_matrix()\n",
    "\n",
    "    def swap_columns(self, col1, col2):\n",
    "        col1_idx = self._validate_col_number(col1)\n",
    "        col2_idx = self._validate_col_number(col2)\n",
    "        \n",
    "        self.matrix.col_swap(col1_idx, col2_idx)\n",
    "        self.column_labels[col1_idx], self.column_labels[col2_idx] = self.column_labels[col2_idx], self.column_labels[col1_idx]\n",
    "        \n",
    "        operation_str = f\"Zamiana kol{col1} <-> kol{col2}\"\n",
    "        self.operations.append(operation_str)\n",
    "        display(Markdown(f\"**Operacja:** {operation_str}\"))\n",
    "        self.display_matrix()\n",
    "\n",
    "    def _validate_row_number(self, row):\n",
    "        if not isinstance(row, int):\n",
    "            raise TypeError(\"Numer wiersza musi być liczbą całkowitą.\")\n",
    "        if row < 1 or row > self.matrix.rows:\n",
    "            raise IndexError(f\"Numer wiersza musi być w zakresie od 1 do {self.matrix.rows}.\")\n",
    "        return row - 1\n",
    "\n",
    "    def _validate_col_number(self, col):\n",
    "        if not isinstance(col, int):\n",
    "            raise TypeError(\"Numer kolumny musi być liczbą całkowitą.\")\n",
    "        if col < 1 or col > self.matrix.cols:\n",
    "            raise IndexError(f\"Numer kolumny musi być w zakresie od 1 do {self.matrix.cols}.\")\n",
    "        return col - 1\n",
    "\n",
    "    def print_operations(self):\n",
    "        display(Markdown(\"**Wykonane operacje:**\"))\n",
    "        for op in self.operations:\n",
    "            print(op)\n",
    "\n",
    "# Przykład użycia:\n",
    "m = SymbolicMatrix([[1,2,3], [4,5,6], [7,8,12]], column_labels=[\"x1\", \"x2\", \"x3\"], free_terms=[10, 11, 18], display_mode=\"equations\")\n"
   ]
  },
  {
   "cell_type": "code",
   "execution_count": 2,
   "metadata": {},
   "outputs": [
    {
     "data": {
      "text/markdown": [
       "**Operacja:** w2 = w2 + -4*w1"
      ],
      "text/plain": [
       "<IPython.core.display.Markdown object>"
      ]
     },
     "metadata": {},
     "output_type": "display_data"
    },
    {
     "data": {
      "text/markdown": [
       "Układ równań:"
      ],
      "text/plain": [
       "<IPython.core.display.Markdown object>"
      ]
     },
     "metadata": {},
     "output_type": "display_data"
    },
    {
     "data": {
      "text/markdown": [
       "$$\\begin{aligned} 1 x_{1} + 2 x_{2} + 3 x_{3} = 10 \\\\ 0 x_{1} - 3 x_{2} - 6 x_{3} = -29 \\\\ 7 x_{1} + 8 x_{2} + 12 x_{3} = 18 \\end{aligned}$$"
      ],
      "text/plain": [
       "<IPython.core.display.Markdown object>"
      ]
     },
     "metadata": {},
     "output_type": "display_data"
    }
   ],
   "source": [
    "m.add_row(2, 1, -4)"
   ]
  },
  {
   "cell_type": "code",
   "execution_count": 3,
   "metadata": {},
   "outputs": [
    {
     "data": {
      "text/markdown": [
       "**Operacja:** w3 = w3 + -7*w1"
      ],
      "text/plain": [
       "<IPython.core.display.Markdown object>"
      ]
     },
     "metadata": {},
     "output_type": "display_data"
    },
    {
     "data": {
      "text/markdown": [
       "Układ równań:"
      ],
      "text/plain": [
       "<IPython.core.display.Markdown object>"
      ]
     },
     "metadata": {},
     "output_type": "display_data"
    },
    {
     "data": {
      "text/markdown": [
       "$$\\begin{aligned} 1 x_{1} + 2 x_{2} + 3 x_{3} = 10 \\\\ 0 x_{1} - 3 x_{2} - 6 x_{3} = -29 \\\\ 0 x_{1} - 6 x_{2} - 9 x_{3} = -52 \\end{aligned}$$"
      ],
      "text/plain": [
       "<IPython.core.display.Markdown object>"
      ]
     },
     "metadata": {},
     "output_type": "display_data"
    }
   ],
   "source": [
    "m.add_row(3, 1, -7)"
   ]
  },
  {
   "cell_type": "code",
   "execution_count": 4,
   "metadata": {},
   "outputs": [
    {
     "data": {
      "text/markdown": [
       "**Operacja:** w3 = w3 + -2*w2"
      ],
      "text/plain": [
       "<IPython.core.display.Markdown object>"
      ]
     },
     "metadata": {},
     "output_type": "display_data"
    },
    {
     "data": {
      "text/markdown": [
       "Układ równań:"
      ],
      "text/plain": [
       "<IPython.core.display.Markdown object>"
      ]
     },
     "metadata": {},
     "output_type": "display_data"
    },
    {
     "data": {
      "text/markdown": [
       "$$\\begin{aligned} 1 x_{1} + 2 x_{2} + 3 x_{3} = 10 \\\\ 0 x_{1} - 3 x_{2} - 6 x_{3} = -29 \\\\ 0 x_{1} +0 x_{2} + 3 x_{3} = 6 \\end{aligned}$$"
      ],
      "text/plain": [
       "<IPython.core.display.Markdown object>"
      ]
     },
     "metadata": {},
     "output_type": "display_data"
    }
   ],
   "source": [
    "m.add_row(3, 2, -2)"
   ]
  },
  {
   "cell_type": "code",
   "execution_count": 5,
   "metadata": {},
   "outputs": [],
   "source": [
    "# mamy 3 równania, więc musimy zakończyć działanie\n",
    "# definicja symboli\n",
    "x1, x2, x3 = symbols('x1 x2 x3')\n",
    "# Definicja równań\n",
    "eq1 = Eq(x1 + 2*x2 + 3*x3, 10)\n",
    "eq2 = Eq(-3*x2-6*x3,-29)\n",
    "eq3 = Eq(3*x3, 6)"
   ]
  },
  {
   "cell_type": "code",
   "execution_count": 6,
   "metadata": {},
   "outputs": [
    {
     "data": {
      "text/latex": [
       "$\\displaystyle 2$"
      ],
      "text/plain": [
       "2"
      ]
     },
     "execution_count": 6,
     "metadata": {},
     "output_type": "execute_result"
    }
   ],
   "source": [
    "sol_x3 = sp.solve(eq3, x3)[0]\n",
    "sol_x3"
   ]
  },
  {
   "cell_type": "code",
   "execution_count": 7,
   "metadata": {},
   "outputs": [
    {
     "data": {
      "text/latex": [
       "$\\displaystyle \\frac{17}{3}$"
      ],
      "text/plain": [
       "17/3"
      ]
     },
     "execution_count": 7,
     "metadata": {},
     "output_type": "execute_result"
    }
   ],
   "source": [
    "# podstawiamy rozwiązanie x3 do równania 2\n",
    "eq2 = eq2.subs(x3, sol_x3)\n",
    "# rozwiązujemy równanie 2\n",
    "sol_x2 = sp.solve(eq2, x2)[0]\n",
    "sol_x2"
   ]
  },
  {
   "cell_type": "code",
   "execution_count": 8,
   "metadata": {},
   "outputs": [
    {
     "data": {
      "text/latex": [
       "$\\displaystyle - \\frac{22}{3}$"
      ],
      "text/plain": [
       "-22/3"
      ]
     },
     "execution_count": 8,
     "metadata": {},
     "output_type": "execute_result"
    }
   ],
   "source": [
    "# podstawiamy rozwiązania x2 i x3 do równania 1\n",
    "eq1 = eq1.subs({x2: sol_x2, x3: sol_x3})\n",
    "# rozwiązujemy równanie 1\n",
    "sol_x1 = sp.solve(eq1, x1)[0]\n",
    "sol_x1"
   ]
  },
  {
   "cell_type": "markdown",
   "metadata": {},
   "source": [
    "---\n",
    "\n",
    "## Zadania dla studentów\n",
    "\n",
    "$$\n",
    "\\left\\{\\begin{array}{c}{x+2 y-2 z=4} \\\\ {2 x+y+z=0} \\\\ {3 x+2 y+z=1}\\end{array}\\right.\\quad\n",
    "\\left\\{\\begin{array}{c}{x+y+z-t=2} \\\\ {2 x+y+z=3} \\\\ {-x+z-t=0} \\\\ {3 x+2 y-z+2 t=-1}\\end{array}\\right.\\quad\n",
    "\\left\\{\\begin{array}{c}{x+y-z-t=0} \\\\ {2 x+3 y-2 z+t=4} \\\\ {3 x+5 z=0} \\\\ {-x+y-3 z+2 t=3}\\end{array}\\right.\n",
    "$$"
   ]
  },
  {
   "cell_type": "markdown",
   "metadata": {},
   "source": []
  }
 ],
 "metadata": {
  "kernelspec": {
   "display_name": ".venv",
   "language": "python",
   "name": "python3"
  },
  "language_info": {
   "codemirror_mode": {
    "name": "ipython",
    "version": 3
   },
   "file_extension": ".py",
   "mimetype": "text/x-python",
   "name": "python",
   "nbconvert_exporter": "python",
   "pygments_lexer": "ipython3",
   "version": "3.11.9"
  }
 },
 "nbformat": 4,
 "nbformat_minor": 2
}
